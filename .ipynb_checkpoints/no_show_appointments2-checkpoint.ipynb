{
 "cells": [
  {
   "cell_type": "markdown",
   "metadata": {},
   "source": [
    "# Project: Investigate a Dataset (No_show_appointments)\n",
    "\n",
    "## Amos Omofaiye (Udacity Bertelsmann Scholarship Recipient)\n",
    "\n",
    "## Table of Contents\n",
    "<ul>\n",
    "<li><a href=\"#intro\">Introduction</a></li>\n",
    "<li><a href=\"#wrangling\">Data Wrangling</a></li>\n",
    "<li><a href=\"#eda\">Exploratory Data Analysis</a></li>\n",
    "<li><a href=\"#conclusions\">Conclusions</a></li>\n",
    "</ul>"
   ]
  },
  {
   "cell_type": "markdown",
   "metadata": {},
   "source": [
    "<a id='intro'></a>\n",
    "## Introduction\n",
    "\n",
    ">The *no_show_appointments dataset* contains information from over 100 thousand medical appointments in Brazil. It is focused on the question of whether or not patients show up for their appointment. A number of characteristics about the patient are included in each row. The dataset consists of 14 variables in total. The *independent variables* are 13 and the *dependent variable* is **No-show** \n",
    ">The independent variables are: \n",
    "<ol>\n",
    "    <li>PatientId: This is a number identifying the patient.</li>\n",
    "    <li>AppointmentId: This is a number identifying the appointment(s) made by patients. A patient may make more than one appointment.</li>\n",
    "    <li>Gender: This variable stores the sex of the patient making appointment.</li>\n",
    "    <li>ScheduledDay: This variable captures the day the appointment was made by the patient.</li>\n",
    "    <li>AppointmentDay: This is the actual day the appointment is scheduled to occur. It will be later than the  ScheduledDay.\n",
    "    </li>\n",
    "    <li>Age: This is the age of the patient who makes the appointment.</li>\n",
    "    <li>Neighbourhood: This is the place where the hospital is located. As such it is the location where the appointment takes place.</li>\n",
    "    <li>Scholarship: This captures whether the patient is a beneficiary of the <strong>Bolsa Familia Programme</strong>. This is a federal conditional cash transfer programme in Brazil tied to some responsibilities on the part of the receiver. You can click <a href='https://en.wikipedia.org/wiki/Bolsa_Fam%C3%ADlia'> here </a> to read more on the programme online. Values here are either True or False.</li>\n",
    "    <li>Hipertension: This variable captures whether a patient has hypertension or not. It can be True or False.</li>\n",
    "    <li>Diabetes: This variable captures whether a patient has diabetes or not. It can be True or False.</li>\n",
    "    <li>Alcoholism: This variable captures whether a patient is suffering from alcoholism or not. It can be True or False.</li>\n",
    "    <li>Handcap: This variable captures whether a patient suffers from one form of physical disability or not. It can be True or False.</li>\n",
    "    <li>SMS_received: This variable notes whether a patient receives at least an SMS reminding him or her of the appointment before the appointment time.</li>\n",
    "</ol>\n",
    "\n",
    "The *dependent variable* is: \n",
    "<ul>\n",
    "    <li>No-show: This captures whether a patient shows up on the day of the appointment or not. If a patient did not show, he/she gets a 'Yes' and a 'No' if he/she shows up.\n",
    "    </li>\n",
    "</ul>\n",
    "\n",
    "Over the course of this analysis, I will be exploring the following questions:\n",
    "<ol>\n",
    "    <li> How does each independent variable except the identification variables correlates with the dependent variable?\n",
    "    </li>\n",
    "    <li> What factors are important to predict whether a patient will show up for their scheduled appointment?\n",
    "    </li>\n",
    "</ol>\n",
    "\n",
    "I will walk you through the whole process of analyzing the dataset in this report. Please sit tight. It promises to be a fun ride. **Shall we begin?**"
   ]
  },
  {
   "cell_type": "code",
   "execution_count": 1,
   "metadata": {},
   "outputs": [],
   "source": [
    "# Now I will import the libraries that I need for this analysis.\n",
    "import pandas as pd\n",
    "import numpy as np\n",
    "import matplotlib.pyplot as plt\n",
    "import seaborn as sns\n",
    "sns.set_style('darkgrid')\n",
    "\n",
    "# I want my visualizations to be plotted inline with this notebook, so I include the following line\n",
    "%matplotlib inline"
   ]
  },
  {
   "cell_type": "markdown",
   "metadata": {},
   "source": [
    "<a id='wrangling'></a>\n",
    "## Data Wrangling\n",
    "\n",
    "> **Tip**: In this section of the report, you will load in the data, check for cleanliness, and then trim and clean your dataset for analysis. Make sure that you document your steps carefully and justify your cleaning decisions.\n",
    ">\n",
    "> Now I will load the data, assess, and clean it.\n",
    "\n",
    "### General Properties"
   ]
  },
  {
   "cell_type": "code",
   "execution_count": 4,
   "metadata": {},
   "outputs": [],
   "source": [
    "# Load your data and print out a few lines. Perform operations to inspect data\n",
    "#   types and look for instances of missing or possibly errant data.\n",
    "dap = pd.read_csv('noshow.csv')"
   ]
  },
  {
   "cell_type": "code",
   "execution_count": 5,
   "metadata": {
    "scrolled": true
   },
   "outputs": [
    {
     "data": {
      "text/html": [
       "<div>\n",
       "<style scoped>\n",
       "    .dataframe tbody tr th:only-of-type {\n",
       "        vertical-align: middle;\n",
       "    }\n",
       "\n",
       "    .dataframe tbody tr th {\n",
       "        vertical-align: top;\n",
       "    }\n",
       "\n",
       "    .dataframe thead th {\n",
       "        text-align: right;\n",
       "    }\n",
       "</style>\n",
       "<table border=\"1\" class=\"dataframe\">\n",
       "  <thead>\n",
       "    <tr style=\"text-align: right;\">\n",
       "      <th></th>\n",
       "      <th>PatientId</th>\n",
       "      <th>AppointmentID</th>\n",
       "      <th>Gender</th>\n",
       "      <th>ScheduledDay</th>\n",
       "      <th>AppointmentDay</th>\n",
       "      <th>Age</th>\n",
       "      <th>Neighbourhood</th>\n",
       "      <th>Scholarship</th>\n",
       "      <th>Hipertension</th>\n",
       "      <th>Diabetes</th>\n",
       "      <th>Alcoholism</th>\n",
       "      <th>Handcap</th>\n",
       "      <th>SMS_received</th>\n",
       "      <th>No-show</th>\n",
       "    </tr>\n",
       "  </thead>\n",
       "  <tbody>\n",
       "    <tr>\n",
       "      <th>110525</th>\n",
       "      <td>9.213493e+13</td>\n",
       "      <td>5630323</td>\n",
       "      <td>F</td>\n",
       "      <td>2016-04-27T15:09:23Z</td>\n",
       "      <td>2016-06-07T00:00:00Z</td>\n",
       "      <td>38</td>\n",
       "      <td>MARIA ORTIZ</td>\n",
       "      <td>0</td>\n",
       "      <td>0</td>\n",
       "      <td>0</td>\n",
       "      <td>0</td>\n",
       "      <td>0</td>\n",
       "      <td>1</td>\n",
       "      <td>No</td>\n",
       "    </tr>\n",
       "    <tr>\n",
       "      <th>110526</th>\n",
       "      <td>3.775115e+14</td>\n",
       "      <td>5629448</td>\n",
       "      <td>F</td>\n",
       "      <td>2016-04-27T13:30:56Z</td>\n",
       "      <td>2016-06-07T00:00:00Z</td>\n",
       "      <td>54</td>\n",
       "      <td>MARIA ORTIZ</td>\n",
       "      <td>0</td>\n",
       "      <td>0</td>\n",
       "      <td>0</td>\n",
       "      <td>0</td>\n",
       "      <td>0</td>\n",
       "      <td>1</td>\n",
       "      <td>No</td>\n",
       "    </tr>\n",
       "  </tbody>\n",
       "</table>\n",
       "</div>"
      ],
      "text/plain": [
       "           PatientId  AppointmentID Gender          ScheduledDay  \\\n",
       "110525  9.213493e+13        5630323      F  2016-04-27T15:09:23Z   \n",
       "110526  3.775115e+14        5629448      F  2016-04-27T13:30:56Z   \n",
       "\n",
       "              AppointmentDay  Age Neighbourhood  Scholarship  Hipertension  \\\n",
       "110525  2016-06-07T00:00:00Z   38   MARIA ORTIZ            0             0   \n",
       "110526  2016-06-07T00:00:00Z   54   MARIA ORTIZ            0             0   \n",
       "\n",
       "        Diabetes  Alcoholism  Handcap  SMS_received No-show  \n",
       "110525         0           0        0             1      No  \n",
       "110526         0           0        0             1      No  "
      ]
     },
     "execution_count": 5,
     "metadata": {},
     "output_type": "execute_result"
    }
   ],
   "source": [
    "dap.tail(2)"
   ]
  },
  {
   "cell_type": "markdown",
   "metadata": {},
   "source": [
    "> The column headings start with capital letter. Some are a miss of upper and lower case letters in a quasi camelcase manner. The No-show variable also uses a dash to separate the two words. \n",
    ">\n",
    ">I like having column names in lowercase letters and if they are more than a word the words should be separated using an underscore. So I will effect this change immediately."
   ]
  },
  {
   "cell_type": "code",
   "execution_count": 6,
   "metadata": {},
   "outputs": [],
   "source": [
    "# Changing column names to  lower case and underscore separated\n",
    "dap.rename(columns=lambda x: x.strip().lower().replace(\"-\", \"_\"), inplace=True)"
   ]
  },
  {
   "cell_type": "markdown",
   "metadata": {},
   "source": [
    "> Now we can check whether the change has been effected."
   ]
  },
  {
   "cell_type": "code",
   "execution_count": 7,
   "metadata": {},
   "outputs": [
    {
     "data": {
      "text/html": [
       "<div>\n",
       "<style scoped>\n",
       "    .dataframe tbody tr th:only-of-type {\n",
       "        vertical-align: middle;\n",
       "    }\n",
       "\n",
       "    .dataframe tbody tr th {\n",
       "        vertical-align: top;\n",
       "    }\n",
       "\n",
       "    .dataframe thead th {\n",
       "        text-align: right;\n",
       "    }\n",
       "</style>\n",
       "<table border=\"1\" class=\"dataframe\">\n",
       "  <thead>\n",
       "    <tr style=\"text-align: right;\">\n",
       "      <th></th>\n",
       "      <th>patientid</th>\n",
       "      <th>appointmentid</th>\n",
       "      <th>gender</th>\n",
       "      <th>scheduledday</th>\n",
       "      <th>appointmentday</th>\n",
       "      <th>age</th>\n",
       "      <th>neighbourhood</th>\n",
       "      <th>scholarship</th>\n",
       "      <th>hipertension</th>\n",
       "      <th>diabetes</th>\n",
       "      <th>alcoholism</th>\n",
       "      <th>handcap</th>\n",
       "      <th>sms_received</th>\n",
       "      <th>no_show</th>\n",
       "    </tr>\n",
       "  </thead>\n",
       "  <tbody>\n",
       "    <tr>\n",
       "      <th>0</th>\n",
       "      <td>2.987250e+13</td>\n",
       "      <td>5642903</td>\n",
       "      <td>F</td>\n",
       "      <td>2016-04-29T18:38:08Z</td>\n",
       "      <td>2016-04-29T00:00:00Z</td>\n",
       "      <td>62</td>\n",
       "      <td>JARDIM DA PENHA</td>\n",
       "      <td>0</td>\n",
       "      <td>1</td>\n",
       "      <td>0</td>\n",
       "      <td>0</td>\n",
       "      <td>0</td>\n",
       "      <td>0</td>\n",
       "      <td>No</td>\n",
       "    </tr>\n",
       "    <tr>\n",
       "      <th>1</th>\n",
       "      <td>5.589978e+14</td>\n",
       "      <td>5642503</td>\n",
       "      <td>M</td>\n",
       "      <td>2016-04-29T16:08:27Z</td>\n",
       "      <td>2016-04-29T00:00:00Z</td>\n",
       "      <td>56</td>\n",
       "      <td>JARDIM DA PENHA</td>\n",
       "      <td>0</td>\n",
       "      <td>0</td>\n",
       "      <td>0</td>\n",
       "      <td>0</td>\n",
       "      <td>0</td>\n",
       "      <td>0</td>\n",
       "      <td>No</td>\n",
       "    </tr>\n",
       "    <tr>\n",
       "      <th>2</th>\n",
       "      <td>4.262962e+12</td>\n",
       "      <td>5642549</td>\n",
       "      <td>F</td>\n",
       "      <td>2016-04-29T16:19:04Z</td>\n",
       "      <td>2016-04-29T00:00:00Z</td>\n",
       "      <td>62</td>\n",
       "      <td>MATA DA PRAIA</td>\n",
       "      <td>0</td>\n",
       "      <td>0</td>\n",
       "      <td>0</td>\n",
       "      <td>0</td>\n",
       "      <td>0</td>\n",
       "      <td>0</td>\n",
       "      <td>No</td>\n",
       "    </tr>\n",
       "    <tr>\n",
       "      <th>3</th>\n",
       "      <td>8.679512e+11</td>\n",
       "      <td>5642828</td>\n",
       "      <td>F</td>\n",
       "      <td>2016-04-29T17:29:31Z</td>\n",
       "      <td>2016-04-29T00:00:00Z</td>\n",
       "      <td>8</td>\n",
       "      <td>PONTAL DE CAMBURI</td>\n",
       "      <td>0</td>\n",
       "      <td>0</td>\n",
       "      <td>0</td>\n",
       "      <td>0</td>\n",
       "      <td>0</td>\n",
       "      <td>0</td>\n",
       "      <td>No</td>\n",
       "    </tr>\n",
       "    <tr>\n",
       "      <th>4</th>\n",
       "      <td>8.841186e+12</td>\n",
       "      <td>5642494</td>\n",
       "      <td>F</td>\n",
       "      <td>2016-04-29T16:07:23Z</td>\n",
       "      <td>2016-04-29T00:00:00Z</td>\n",
       "      <td>56</td>\n",
       "      <td>JARDIM DA PENHA</td>\n",
       "      <td>0</td>\n",
       "      <td>1</td>\n",
       "      <td>1</td>\n",
       "      <td>0</td>\n",
       "      <td>0</td>\n",
       "      <td>0</td>\n",
       "      <td>No</td>\n",
       "    </tr>\n",
       "  </tbody>\n",
       "</table>\n",
       "</div>"
      ],
      "text/plain": [
       "      patientid  appointmentid gender          scheduledday  \\\n",
       "0  2.987250e+13        5642903      F  2016-04-29T18:38:08Z   \n",
       "1  5.589978e+14        5642503      M  2016-04-29T16:08:27Z   \n",
       "2  4.262962e+12        5642549      F  2016-04-29T16:19:04Z   \n",
       "3  8.679512e+11        5642828      F  2016-04-29T17:29:31Z   \n",
       "4  8.841186e+12        5642494      F  2016-04-29T16:07:23Z   \n",
       "\n",
       "         appointmentday  age      neighbourhood  scholarship  hipertension  \\\n",
       "0  2016-04-29T00:00:00Z   62    JARDIM DA PENHA            0             1   \n",
       "1  2016-04-29T00:00:00Z   56    JARDIM DA PENHA            0             0   \n",
       "2  2016-04-29T00:00:00Z   62      MATA DA PRAIA            0             0   \n",
       "3  2016-04-29T00:00:00Z    8  PONTAL DE CAMBURI            0             0   \n",
       "4  2016-04-29T00:00:00Z   56    JARDIM DA PENHA            0             1   \n",
       "\n",
       "   diabetes  alcoholism  handcap  sms_received no_show  \n",
       "0         0           0        0             0      No  \n",
       "1         0           0        0             0      No  \n",
       "2         0           0        0             0      No  \n",
       "3         0           0        0             0      No  \n",
       "4         1           0        0             0      No  "
      ]
     },
     "execution_count": 7,
     "metadata": {},
     "output_type": "execute_result"
    }
   ],
   "source": [
    "dap.head()"
   ]
  },
  {
   "cell_type": "markdown",
   "metadata": {},
   "source": [
    "> Good! It has been effected. I want to check for missing values and duplicates, next."
   ]
  },
  {
   "cell_type": "code",
   "execution_count": 8,
   "metadata": {},
   "outputs": [
    {
     "name": "stdout",
     "output_type": "stream",
     "text": [
      "<class 'pandas.core.frame.DataFrame'>\n",
      "RangeIndex: 110527 entries, 0 to 110526\n",
      "Data columns (total 14 columns):\n",
      " #   Column          Non-Null Count   Dtype  \n",
      "---  ------          --------------   -----  \n",
      " 0   patientid       110527 non-null  float64\n",
      " 1   appointmentid   110527 non-null  int64  \n",
      " 2   gender          110527 non-null  object \n",
      " 3   scheduledday    110527 non-null  object \n",
      " 4   appointmentday  110527 non-null  object \n",
      " 5   age             110527 non-null  int64  \n",
      " 6   neighbourhood   110527 non-null  object \n",
      " 7   scholarship     110527 non-null  int64  \n",
      " 8   hipertension    110527 non-null  int64  \n",
      " 9   diabetes        110527 non-null  int64  \n",
      " 10  alcoholism      110527 non-null  int64  \n",
      " 11  handcap         110527 non-null  int64  \n",
      " 12  sms_received    110527 non-null  int64  \n",
      " 13  no_show         110527 non-null  object \n",
      "dtypes: float64(1), int64(8), object(5)\n",
      "memory usage: 11.8+ MB\n"
     ]
    },
    {
     "data": {
      "text/html": [
       "<div>\n",
       "<style scoped>\n",
       "    .dataframe tbody tr th:only-of-type {\n",
       "        vertical-align: middle;\n",
       "    }\n",
       "\n",
       "    .dataframe tbody tr th {\n",
       "        vertical-align: top;\n",
       "    }\n",
       "\n",
       "    .dataframe thead th {\n",
       "        text-align: right;\n",
       "    }\n",
       "</style>\n",
       "<table border=\"1\" class=\"dataframe\">\n",
       "  <thead>\n",
       "    <tr style=\"text-align: right;\">\n",
       "      <th></th>\n",
       "      <th>patientid</th>\n",
       "      <th>appointmentid</th>\n",
       "      <th>gender</th>\n",
       "      <th>scheduledday</th>\n",
       "      <th>appointmentday</th>\n",
       "      <th>age</th>\n",
       "      <th>neighbourhood</th>\n",
       "      <th>scholarship</th>\n",
       "      <th>hipertension</th>\n",
       "      <th>diabetes</th>\n",
       "      <th>alcoholism</th>\n",
       "      <th>handcap</th>\n",
       "      <th>sms_received</th>\n",
       "      <th>no_show</th>\n",
       "    </tr>\n",
       "  </thead>\n",
       "  <tbody>\n",
       "    <tr>\n",
       "      <th>0</th>\n",
       "      <td>False</td>\n",
       "      <td>False</td>\n",
       "      <td>False</td>\n",
       "      <td>False</td>\n",
       "      <td>False</td>\n",
       "      <td>False</td>\n",
       "      <td>False</td>\n",
       "      <td>False</td>\n",
       "      <td>False</td>\n",
       "      <td>False</td>\n",
       "      <td>False</td>\n",
       "      <td>False</td>\n",
       "      <td>False</td>\n",
       "      <td>False</td>\n",
       "    </tr>\n",
       "    <tr>\n",
       "      <th>1</th>\n",
       "      <td>False</td>\n",
       "      <td>False</td>\n",
       "      <td>False</td>\n",
       "      <td>False</td>\n",
       "      <td>False</td>\n",
       "      <td>False</td>\n",
       "      <td>False</td>\n",
       "      <td>False</td>\n",
       "      <td>False</td>\n",
       "      <td>False</td>\n",
       "      <td>False</td>\n",
       "      <td>False</td>\n",
       "      <td>False</td>\n",
       "      <td>False</td>\n",
       "    </tr>\n",
       "    <tr>\n",
       "      <th>2</th>\n",
       "      <td>False</td>\n",
       "      <td>False</td>\n",
       "      <td>False</td>\n",
       "      <td>False</td>\n",
       "      <td>False</td>\n",
       "      <td>False</td>\n",
       "      <td>False</td>\n",
       "      <td>False</td>\n",
       "      <td>False</td>\n",
       "      <td>False</td>\n",
       "      <td>False</td>\n",
       "      <td>False</td>\n",
       "      <td>False</td>\n",
       "      <td>False</td>\n",
       "    </tr>\n",
       "    <tr>\n",
       "      <th>3</th>\n",
       "      <td>False</td>\n",
       "      <td>False</td>\n",
       "      <td>False</td>\n",
       "      <td>False</td>\n",
       "      <td>False</td>\n",
       "      <td>False</td>\n",
       "      <td>False</td>\n",
       "      <td>False</td>\n",
       "      <td>False</td>\n",
       "      <td>False</td>\n",
       "      <td>False</td>\n",
       "      <td>False</td>\n",
       "      <td>False</td>\n",
       "      <td>False</td>\n",
       "    </tr>\n",
       "    <tr>\n",
       "      <th>4</th>\n",
       "      <td>False</td>\n",
       "      <td>False</td>\n",
       "      <td>False</td>\n",
       "      <td>False</td>\n",
       "      <td>False</td>\n",
       "      <td>False</td>\n",
       "      <td>False</td>\n",
       "      <td>False</td>\n",
       "      <td>False</td>\n",
       "      <td>False</td>\n",
       "      <td>False</td>\n",
       "      <td>False</td>\n",
       "      <td>False</td>\n",
       "      <td>False</td>\n",
       "    </tr>\n",
       "    <tr>\n",
       "      <th>...</th>\n",
       "      <td>...</td>\n",
       "      <td>...</td>\n",
       "      <td>...</td>\n",
       "      <td>...</td>\n",
       "      <td>...</td>\n",
       "      <td>...</td>\n",
       "      <td>...</td>\n",
       "      <td>...</td>\n",
       "      <td>...</td>\n",
       "      <td>...</td>\n",
       "      <td>...</td>\n",
       "      <td>...</td>\n",
       "      <td>...</td>\n",
       "      <td>...</td>\n",
       "    </tr>\n",
       "    <tr>\n",
       "      <th>110522</th>\n",
       "      <td>False</td>\n",
       "      <td>False</td>\n",
       "      <td>False</td>\n",
       "      <td>False</td>\n",
       "      <td>False</td>\n",
       "      <td>False</td>\n",
       "      <td>False</td>\n",
       "      <td>False</td>\n",
       "      <td>False</td>\n",
       "      <td>False</td>\n",
       "      <td>False</td>\n",
       "      <td>False</td>\n",
       "      <td>False</td>\n",
       "      <td>False</td>\n",
       "    </tr>\n",
       "    <tr>\n",
       "      <th>110523</th>\n",
       "      <td>False</td>\n",
       "      <td>False</td>\n",
       "      <td>False</td>\n",
       "      <td>False</td>\n",
       "      <td>False</td>\n",
       "      <td>False</td>\n",
       "      <td>False</td>\n",
       "      <td>False</td>\n",
       "      <td>False</td>\n",
       "      <td>False</td>\n",
       "      <td>False</td>\n",
       "      <td>False</td>\n",
       "      <td>False</td>\n",
       "      <td>False</td>\n",
       "    </tr>\n",
       "    <tr>\n",
       "      <th>110524</th>\n",
       "      <td>False</td>\n",
       "      <td>False</td>\n",
       "      <td>False</td>\n",
       "      <td>False</td>\n",
       "      <td>False</td>\n",
       "      <td>False</td>\n",
       "      <td>False</td>\n",
       "      <td>False</td>\n",
       "      <td>False</td>\n",
       "      <td>False</td>\n",
       "      <td>False</td>\n",
       "      <td>False</td>\n",
       "      <td>False</td>\n",
       "      <td>False</td>\n",
       "    </tr>\n",
       "    <tr>\n",
       "      <th>110525</th>\n",
       "      <td>False</td>\n",
       "      <td>False</td>\n",
       "      <td>False</td>\n",
       "      <td>False</td>\n",
       "      <td>False</td>\n",
       "      <td>False</td>\n",
       "      <td>False</td>\n",
       "      <td>False</td>\n",
       "      <td>False</td>\n",
       "      <td>False</td>\n",
       "      <td>False</td>\n",
       "      <td>False</td>\n",
       "      <td>False</td>\n",
       "      <td>False</td>\n",
       "    </tr>\n",
       "    <tr>\n",
       "      <th>110526</th>\n",
       "      <td>False</td>\n",
       "      <td>False</td>\n",
       "      <td>False</td>\n",
       "      <td>False</td>\n",
       "      <td>False</td>\n",
       "      <td>False</td>\n",
       "      <td>False</td>\n",
       "      <td>False</td>\n",
       "      <td>False</td>\n",
       "      <td>False</td>\n",
       "      <td>False</td>\n",
       "      <td>False</td>\n",
       "      <td>False</td>\n",
       "      <td>False</td>\n",
       "    </tr>\n",
       "  </tbody>\n",
       "</table>\n",
       "<p>110527 rows × 14 columns</p>\n",
       "</div>"
      ],
      "text/plain": [
       "        patientid  appointmentid  gender  scheduledday  appointmentday    age  \\\n",
       "0           False          False   False         False           False  False   \n",
       "1           False          False   False         False           False  False   \n",
       "2           False          False   False         False           False  False   \n",
       "3           False          False   False         False           False  False   \n",
       "4           False          False   False         False           False  False   \n",
       "...           ...            ...     ...           ...             ...    ...   \n",
       "110522      False          False   False         False           False  False   \n",
       "110523      False          False   False         False           False  False   \n",
       "110524      False          False   False         False           False  False   \n",
       "110525      False          False   False         False           False  False   \n",
       "110526      False          False   False         False           False  False   \n",
       "\n",
       "        neighbourhood  scholarship  hipertension  diabetes  alcoholism  \\\n",
       "0               False        False         False     False       False   \n",
       "1               False        False         False     False       False   \n",
       "2               False        False         False     False       False   \n",
       "3               False        False         False     False       False   \n",
       "4               False        False         False     False       False   \n",
       "...               ...          ...           ...       ...         ...   \n",
       "110522          False        False         False     False       False   \n",
       "110523          False        False         False     False       False   \n",
       "110524          False        False         False     False       False   \n",
       "110525          False        False         False     False       False   \n",
       "110526          False        False         False     False       False   \n",
       "\n",
       "        handcap  sms_received  no_show  \n",
       "0         False         False    False  \n",
       "1         False         False    False  \n",
       "2         False         False    False  \n",
       "3         False         False    False  \n",
       "4         False         False    False  \n",
       "...         ...           ...      ...  \n",
       "110522    False         False    False  \n",
       "110523    False         False    False  \n",
       "110524    False         False    False  \n",
       "110525    False         False    False  \n",
       "110526    False         False    False  \n",
       "\n",
       "[110527 rows x 14 columns]"
      ]
     },
     "execution_count": 8,
     "metadata": {},
     "output_type": "execute_result"
    }
   ],
   "source": [
    "# Checking for duplicates\n",
    "sum(dap.duplicated())\n",
    "\n",
    "# Checking for missing values\n",
    "dap.info()\n",
    "dap.isnull()"
   ]
  },
  {
   "cell_type": "markdown",
   "metadata": {},
   "source": [
    "> From the information displayed by examining info() and the isnull() array, we can conclude that there is no missing values in this dataset. From the array, we can also see that the dataset consists of 110527 rows and 14 columns. That's some number. Next, I will check the data types to see whether they are in the right data type."
   ]
  },
  {
   "cell_type": "code",
   "execution_count": 9,
   "metadata": {},
   "outputs": [
    {
     "data": {
      "text/plain": [
       "patientid         float64\n",
       "appointmentid       int64\n",
       "gender             object\n",
       "scheduledday       object\n",
       "appointmentday     object\n",
       "age                 int64\n",
       "neighbourhood      object\n",
       "scholarship         int64\n",
       "hipertension        int64\n",
       "diabetes            int64\n",
       "alcoholism          int64\n",
       "handcap             int64\n",
       "sms_received        int64\n",
       "no_show            object\n",
       "dtype: object"
      ]
     },
     "execution_count": 9,
     "metadata": {},
     "output_type": "execute_result"
    }
   ],
   "source": [
    "# Checking data types\n",
    "dap.dtypes"
   ]
  },
  {
   "cell_type": "markdown",
   "metadata": {},
   "source": [
    "> Hmmn, most of these variables are not the right data type. patientid should be integer, scheduledday and appointment day should be datetime, while scholarship, hipertension, diabetes, alcoholism, handcap, sms_received, and no_show should be boolean. I will like to change them to boolean. But because booleans take only two values, I will first check whether non of these variables holds more than two value types before  I proceed. The value_counts() method is useful here."
   ]
  },
  {
   "cell_type": "code",
   "execution_count": 123,
   "metadata": {},
   "outputs": [
    {
     "name": "stdout",
     "output_type": "stream",
     "text": [
      "The value counts for  scholarship variable in this dataset is: \n",
      "False    99647\n",
      "True     10861\n",
      "Name: scholarship, dtype: int64\n",
      "The value counts for  hipertension variable in this dataset is: \n",
      "False    88715\n",
      "True     21793\n",
      "Name: hipertension, dtype: int64\n",
      "The value counts for  diabetes variable in this dataset is: \n",
      "False    102568\n",
      "True       7940\n",
      "Name: diabetes, dtype: int64\n",
      "The value counts for  alcoholism variable in this dataset is: \n",
      "False    107148\n",
      "True       3360\n",
      "Name: alcoholism, dtype: int64\n",
      "The value counts for  handcap variable in this dataset is: \n",
      "False    108273\n",
      "True       2235\n",
      "Name: handcap, dtype: int64\n",
      "The value counts for  sms_received variable in this dataset is: \n",
      "False    75030\n",
      "True     35478\n",
      "Name: sms_received, dtype: int64\n",
      "The value counts for  no_show variable in this dataset is: \n",
      "True     88193\n",
      "False    22315\n",
      "Name: no_show, dtype: int64\n"
     ]
    }
   ],
   "source": [
    "# Declaring a variable to check the boolean value counts, then checking them \n",
    "# Function for checking\n",
    "def checking():\n",
    "    check = ['scholarship', 'hipertension', 'diabetes', 'alcoholism', 'handcap', 'sms_received', 'no_show']\n",
    "    for i in check:\n",
    "        print('The value counts for ', i , 'variable in this dataset is: ')\n",
    "        print(dap[i].value_counts())\n",
    "        \n",
    "# Calling the function to check        \n",
    "checking()\n",
    "    "
   ]
  },
  {
   "cell_type": "markdown",
   "metadata": {},
   "source": [
    "> From these results, it is clear that handcap is categorical rather  boolean. But categories 2 through 4 consists of only 199 observations. This appears insignificant compared to the categories 0 and 1. So I will lump categories 2, 3, and 4 with 1 to give the patients that have one form of handicap or another. And thereafter I will change them to the boolean data type."
   ]
  },
  {
   "cell_type": "code",
   "execution_count": 11,
   "metadata": {},
   "outputs": [],
   "source": [
    "# Changing handcap to only two categories\n",
    "dap['handcap'] = dap['handcap'].apply(lambda x: 1 if x > 1 else x)\n"
   ]
  },
  {
   "cell_type": "code",
   "execution_count": 12,
   "metadata": {},
   "outputs": [
    {
     "data": {
      "text/plain": [
       "0    108286\n",
       "1      2241\n",
       "Name: handcap, dtype: int64"
      ]
     },
     "execution_count": 12,
     "metadata": {},
     "output_type": "execute_result"
    }
   ],
   "source": [
    "# Checking to see whether the change has been effected\n",
    "dap.handcap.value_counts()"
   ]
  },
  {
   "cell_type": "code",
   "execution_count": 13,
   "metadata": {},
   "outputs": [
    {
     "data": {
      "text/plain": [
       "<bound method IndexOpsMixin.value_counts of 0         0\n",
       "1         0\n",
       "2         0\n",
       "3         0\n",
       "4         1\n",
       "         ..\n",
       "110522    0\n",
       "110523    0\n",
       "110524    0\n",
       "110525    0\n",
       "110526    0\n",
       "Name: diabetes, Length: 110527, dtype: int64>"
      ]
     },
     "execution_count": 13,
     "metadata": {},
     "output_type": "execute_result"
    }
   ],
   "source": [
    "dap.diabetes.value_counts"
   ]
  },
  {
   "cell_type": "code",
   "execution_count": 14,
   "metadata": {},
   "outputs": [
    {
     "data": {
      "text/plain": [
       "No     88208\n",
       "Yes    22319\n",
       "Name: no_show, dtype: int64"
      ]
     },
     "execution_count": 14,
     "metadata": {},
     "output_type": "execute_result"
    }
   ],
   "source": [
    "dap.no_show.value_counts()"
   ]
  },
  {
   "cell_type": "code",
   "execution_count": 15,
   "metadata": {},
   "outputs": [
    {
     "data": {
      "text/plain": [
       "0    99666\n",
       "1    10861\n",
       "Name: scholarship, dtype: int64"
      ]
     },
     "execution_count": 15,
     "metadata": {},
     "output_type": "execute_result"
    }
   ],
   "source": [
    "dap.scholarship.value_counts()"
   ]
  },
  {
   "cell_type": "markdown",
   "metadata": {},
   "source": [
    "> Next, I will convert the categorical data types to boolean except no_show. This will not be converted because it is in string and it requires further manipulations. Put simply, it needs to be converted to int and then to bool else it will treturn True for all values. If I think not converting it will negatively impact this analysis, I will convert it. I will also convert scheduledday and appointmentday to datetime."
   ]
  },
  {
   "cell_type": "code",
   "execution_count": 16,
   "metadata": {},
   "outputs": [
    {
     "data": {
      "text/plain": [
       "False    99666\n",
       "True     10861\n",
       "Name: scholarship, dtype: int64"
      ]
     },
     "execution_count": 16,
     "metadata": {},
     "output_type": "execute_result"
    }
   ],
   "source": [
    "# Converting to boolean\n",
    "dap[['scholarship', 'hipertension', 'diabetes', 'alcoholism', 'handcap', 'sms_received']] = dap[['scholarship', 'hipertension', 'diabetes', 'alcoholism', 'handcap', 'sms_received']].astype('bool')\n",
    "dap.scholarship.value_counts()"
   ]
  },
  {
   "cell_type": "code",
   "execution_count": 124,
   "metadata": {},
   "outputs": [
    {
     "name": "stdout",
     "output_type": "stream",
     "text": [
      "The value counts for  scholarship variable in this dataset is: \n",
      "False    99647\n",
      "True     10861\n",
      "Name: scholarship, dtype: int64\n",
      "The value counts for  hipertension variable in this dataset is: \n",
      "False    88715\n",
      "True     21793\n",
      "Name: hipertension, dtype: int64\n",
      "The value counts for  diabetes variable in this dataset is: \n",
      "False    102568\n",
      "True       7940\n",
      "Name: diabetes, dtype: int64\n",
      "The value counts for  alcoholism variable in this dataset is: \n",
      "False    107148\n",
      "True       3360\n",
      "Name: alcoholism, dtype: int64\n",
      "The value counts for  handcap variable in this dataset is: \n",
      "False    108273\n",
      "True       2235\n",
      "Name: handcap, dtype: int64\n",
      "The value counts for  sms_received variable in this dataset is: \n",
      "False    75030\n",
      "True     35478\n",
      "Name: sms_received, dtype: int64\n",
      "The value counts for  no_show variable in this dataset is: \n",
      "True     88193\n",
      "False    22315\n",
      "Name: no_show, dtype: int64\n"
     ]
    }
   ],
   "source": [
    "# Checking value counts \n",
    "# Calling the function to check        \n",
    "checking()"
   ]
  },
  {
   "cell_type": "code",
   "execution_count": 18,
   "metadata": {},
   "outputs": [],
   "source": [
    "# Converting to datetime\n",
    "dap[['scheduledday', 'appointmentday']] = dap[['scheduledday', 'appointmentday']].astype('datetime64[ns]')"
   ]
  },
  {
   "cell_type": "code",
   "execution_count": 19,
   "metadata": {},
   "outputs": [
    {
     "data": {
      "text/plain": [
       "0        2016-04-29\n",
       "1        2016-04-29\n",
       "2        2016-04-29\n",
       "3        2016-04-29\n",
       "4        2016-04-29\n",
       "            ...    \n",
       "110522   2016-06-07\n",
       "110523   2016-06-07\n",
       "110524   2016-06-07\n",
       "110525   2016-06-07\n",
       "110526   2016-06-07\n",
       "Name: appointmentday, Length: 110527, dtype: datetime64[ns]"
      ]
     },
     "execution_count": 19,
     "metadata": {},
     "output_type": "execute_result"
    }
   ],
   "source": [
    "# Now let us check\n",
    "dap.appointmentday"
   ]
  },
  {
   "cell_type": "code",
   "execution_count": 20,
   "metadata": {},
   "outputs": [
    {
     "data": {
      "text/plain": [
       "patientid                float64\n",
       "appointmentid              int64\n",
       "gender                    object\n",
       "scheduledday      datetime64[ns]\n",
       "appointmentday    datetime64[ns]\n",
       "age                        int64\n",
       "neighbourhood             object\n",
       "scholarship                 bool\n",
       "hipertension                bool\n",
       "diabetes                    bool\n",
       "alcoholism                  bool\n",
       "handcap                     bool\n",
       "sms_received                bool\n",
       "no_show                   object\n",
       "dtype: object"
      ]
     },
     "execution_count": 20,
     "metadata": {},
     "output_type": "execute_result"
    }
   ],
   "source": [
    "# Finally we check the data types of our variables\n",
    "dap.dtypes"
   ]
  },
  {
   "cell_type": "markdown",
   "metadata": {},
   "source": [
    "> From the above it is glaringly clear that the data types are like the way we want it. Now we move on to describing the data with the aim of fishing ou outliers or impossible values."
   ]
  },
  {
   "cell_type": "code",
   "execution_count": 21,
   "metadata": {},
   "outputs": [
    {
     "data": {
      "text/plain": [
       "(110527, 14)"
      ]
     },
     "execution_count": 21,
     "metadata": {},
     "output_type": "execute_result"
    }
   ],
   "source": [
    "# Getting data rows and columns.\n",
    "dap.shape"
   ]
  },
  {
   "cell_type": "markdown",
   "metadata": {},
   "source": [
    "> This dataset consists of 110527 appointments or rows. Each row has 14 different observations. We should remember that there are neither missing values nor duplicates in this dataset. Next, we look at the descriptive statistics."
   ]
  },
  {
   "cell_type": "code",
   "execution_count": 22,
   "metadata": {},
   "outputs": [
    {
     "data": {
      "text/html": [
       "<div>\n",
       "<style scoped>\n",
       "    .dataframe tbody tr th:only-of-type {\n",
       "        vertical-align: middle;\n",
       "    }\n",
       "\n",
       "    .dataframe tbody tr th {\n",
       "        vertical-align: top;\n",
       "    }\n",
       "\n",
       "    .dataframe thead th {\n",
       "        text-align: right;\n",
       "    }\n",
       "</style>\n",
       "<table border=\"1\" class=\"dataframe\">\n",
       "  <thead>\n",
       "    <tr style=\"text-align: right;\">\n",
       "      <th></th>\n",
       "      <th>patientid</th>\n",
       "      <th>appointmentid</th>\n",
       "      <th>age</th>\n",
       "    </tr>\n",
       "  </thead>\n",
       "  <tbody>\n",
       "    <tr>\n",
       "      <th>count</th>\n",
       "      <td>1.105270e+05</td>\n",
       "      <td>1.105270e+05</td>\n",
       "      <td>110527.000000</td>\n",
       "    </tr>\n",
       "    <tr>\n",
       "      <th>mean</th>\n",
       "      <td>1.474963e+14</td>\n",
       "      <td>5.675305e+06</td>\n",
       "      <td>37.088874</td>\n",
       "    </tr>\n",
       "    <tr>\n",
       "      <th>std</th>\n",
       "      <td>2.560949e+14</td>\n",
       "      <td>7.129575e+04</td>\n",
       "      <td>23.110205</td>\n",
       "    </tr>\n",
       "    <tr>\n",
       "      <th>min</th>\n",
       "      <td>3.921784e+04</td>\n",
       "      <td>5.030230e+06</td>\n",
       "      <td>-1.000000</td>\n",
       "    </tr>\n",
       "    <tr>\n",
       "      <th>25%</th>\n",
       "      <td>4.172614e+12</td>\n",
       "      <td>5.640286e+06</td>\n",
       "      <td>18.000000</td>\n",
       "    </tr>\n",
       "    <tr>\n",
       "      <th>50%</th>\n",
       "      <td>3.173184e+13</td>\n",
       "      <td>5.680573e+06</td>\n",
       "      <td>37.000000</td>\n",
       "    </tr>\n",
       "    <tr>\n",
       "      <th>75%</th>\n",
       "      <td>9.439172e+13</td>\n",
       "      <td>5.725524e+06</td>\n",
       "      <td>55.000000</td>\n",
       "    </tr>\n",
       "    <tr>\n",
       "      <th>max</th>\n",
       "      <td>9.999816e+14</td>\n",
       "      <td>5.790484e+06</td>\n",
       "      <td>115.000000</td>\n",
       "    </tr>\n",
       "  </tbody>\n",
       "</table>\n",
       "</div>"
      ],
      "text/plain": [
       "          patientid  appointmentid            age\n",
       "count  1.105270e+05   1.105270e+05  110527.000000\n",
       "mean   1.474963e+14   5.675305e+06      37.088874\n",
       "std    2.560949e+14   7.129575e+04      23.110205\n",
       "min    3.921784e+04   5.030230e+06      -1.000000\n",
       "25%    4.172614e+12   5.640286e+06      18.000000\n",
       "50%    3.173184e+13   5.680573e+06      37.000000\n",
       "75%    9.439172e+13   5.725524e+06      55.000000\n",
       "max    9.999816e+14   5.790484e+06     115.000000"
      ]
     },
     "execution_count": 22,
     "metadata": {},
     "output_type": "execute_result"
    }
   ],
   "source": [
    "# Getting the descriptive statistics such as mean, standard deviation, and percentiles.\n",
    "# This is only done for numeric variables such as integer and floats\n",
    "dap.describe()"
   ]
  },
  {
   "cell_type": "markdown",
   "metadata": {},
   "source": [
    "> It does not seem logical that patientid and appointmentid will have anything to do with whether a patient shows up on the appointment day or not. They are just a number. So I am thinking of dropping them. Also if you look closely, the minimum age is -1. Age cannot be negative. So I intend to look more at this column."
   ]
  },
  {
   "cell_type": "code",
   "execution_count": 23,
   "metadata": {},
   "outputs": [
    {
     "data": {
      "text/plain": [
       " 0      3539\n",
       " 1      2273\n",
       " 52     1746\n",
       " 49     1652\n",
       " 53     1651\n",
       "        ... \n",
       " 115       5\n",
       " 100       4\n",
       " 102       2\n",
       " 99        1\n",
       "-1         1\n",
       "Name: age, Length: 104, dtype: int64"
      ]
     },
     "execution_count": 23,
     "metadata": {},
     "output_type": "execute_result"
    }
   ],
   "source": [
    "# Getting the values of the age column\n",
    "dap.age.value_counts()"
   ]
  },
  {
   "cell_type": "code",
   "execution_count": 26,
   "metadata": {
    "scrolled": true
   },
   "outputs": [
    {
     "data": {
      "text/plain": [
       "Text(0, 0.5, 'Frequency')"
      ]
     },
     "execution_count": 26,
     "metadata": {},
     "output_type": "execute_result"
    },
    {
     "data": {
      "image/png": "[encoded data removed]",
      "text/plain": [
       "<Figure size 432x288 with 1 Axes>"
      ]
     },
     "metadata": {
      "needs_background": "light"
     },
     "output_type": "display_data"
    }
   ],
   "source": [
    "# Examining the distribution of the age variable\n",
    "dap.age.hist()\n",
    "plt.title('Distribution of age in years')\n",
    "plt.xlabel('Year')\n",
    "plt.ylabel('Frequency')"
   ]
  },
  {
   "cell_type": "markdown",
   "metadata": {},
   "source": [
    "> The age column consist of 1 neagtive number, many zeros, and some numbers greater than 100. Of course it is plausible that someone can be older than a century but such persons are rare and may have been suffering from undisclosed ailments that may make them book appointments when not needed or forget booked appointments. Moreover they may nop longer be in significant control of their movements and may not be able to force it. But can one really be -1 year old? This must be a mistake. I also ruminated on the idea of being 0 year old. Perhaps such persons are babies that are less than a year old. In such cases the appointments may have been made by their parents or foster parents or guardians. To get more insight on the distribution I plotted a histogram of the age and obseved that ages with members less than 10 are outliers. Such ages range from 98 to 115. So, I have decided to drop them too. Age as seen here is skewed to the right."
   ]
  },
  {
   "cell_type": "code",
   "execution_count": 27,
   "metadata": {
    "scrolled": true
   },
   "outputs": [
    {
     "data": {
      "text/plain": [
       "0     3539\n",
       "1     2273\n",
       "52    1746\n",
       "49    1652\n",
       "53    1651\n",
       "      ... \n",
       "93      53\n",
       "94      33\n",
       "95      24\n",
       "96      17\n",
       "97      11\n",
       "Name: age, Length: 98, dtype: int64"
      ]
     },
     "execution_count": 27,
     "metadata": {},
     "output_type": "execute_result"
    }
   ],
   "source": [
    "# Dropping the ages greater than 97 and less than 0. I could have piped this to use only one code line\n",
    "dap.drop(dap[dap['age'] > 97].index, inplace=True)\n",
    "dap.drop(dap[dap['age'] < 0].index, inplace=True)\n",
    "dap.age.value_counts()"
   ]
  },
  {
   "cell_type": "code",
   "execution_count": 28,
   "metadata": {
    "scrolled": false
   },
   "outputs": [
    {
     "data": {
      "text/plain": [
       "Text(0, 0.5, 'Frequency')"
      ]
     },
     "execution_count": 28,
     "metadata": {},
     "output_type": "execute_result"
    },
    {
     "data": {
      "image/png": "[encoded data removed]",
      "text/plain": [
       "<Figure size 432x288 with 1 Axes>"
      ]
     },
     "metadata": {
      "needs_background": "light"
     },
     "output_type": "display_data"
    }
   ],
   "source": [
    "# Checking the distribution again after dropping the unwanted ages.\n",
    "dap.age.hist()\n",
    "plt.title('Distribution of age in years')\n",
    "plt.xlabel('Year')\n",
    "plt.ylabel('Frequency')"
   ]
  },
  {
   "cell_type": "code",
   "execution_count": 125,
   "metadata": {
    "scrolled": true
   },
   "outputs": [
    {
     "name": "stdout",
     "output_type": "stream",
     "text": [
      "The value counts for  scholarship variable in this dataset is: \n",
      "False    99647\n",
      "True     10861\n",
      "Name: scholarship, dtype: int64\n",
      "The value counts for  hipertension variable in this dataset is: \n",
      "False    88715\n",
      "True     21793\n",
      "Name: hipertension, dtype: int64\n",
      "The value counts for  diabetes variable in this dataset is: \n",
      "False    102568\n",
      "True       7940\n",
      "Name: diabetes, dtype: int64\n",
      "The value counts for  alcoholism variable in this dataset is: \n",
      "False    107148\n",
      "True       3360\n",
      "Name: alcoholism, dtype: int64\n",
      "The value counts for  handcap variable in this dataset is: \n",
      "False    108273\n",
      "True       2235\n",
      "Name: handcap, dtype: int64\n",
      "The value counts for  sms_received variable in this dataset is: \n",
      "False    75030\n",
      "True     35478\n",
      "Name: sms_received, dtype: int64\n",
      "The value counts for  no_show variable in this dataset is: \n",
      "True     88193\n",
      "False    22315\n",
      "Name: no_show, dtype: int64\n"
     ]
    }
   ],
   "source": [
    "# Checking value counts \n",
    "# Calling the function to check        \n",
    "checking()"
   ]
  },
  {
   "cell_type": "code",
   "execution_count": 126,
   "metadata": {},
   "outputs": [],
   "source": [
    "# Dropping patientid and appointmentid variables\n",
    "dap.drop(['patientid','appointmentid'], axis=1, inplace=True)"
   ]
  },
  {
   "cell_type": "markdown",
   "metadata": {},
   "source": [
    "> Having dropped the unwanted columns and the outlier ages, I want to create a column that captures delay days. This is necessary because I think the number of days or hours between making an appointment and showing up for an appointment may have an effect on whether a patient honours an appointment or not.\n",
    ">\n",
    "> You may have noticed that I keep checking the value_counts for the categorical variables. I am doing this to keep track of whether an operation I perform has an undesired change in them"
   ]
  },
  {
   "cell_type": "code",
   "execution_count": 34,
   "metadata": {},
   "outputs": [],
   "source": [
    "# Creating new columns\n",
    "dap['delay_days'] = dap['appointmentday'] - dap['scheduledday']"
   ]
  },
  {
   "cell_type": "code",
   "execution_count": 35,
   "metadata": {},
   "outputs": [
    {
     "data": {
      "text/html": [
       "<div>\n",
       "<style scoped>\n",
       "    .dataframe tbody tr th:only-of-type {\n",
       "        vertical-align: middle;\n",
       "    }\n",
       "\n",
       "    .dataframe tbody tr th {\n",
       "        vertical-align: top;\n",
       "    }\n",
       "\n",
       "    .dataframe thead th {\n",
       "        text-align: right;\n",
       "    }\n",
       "</style>\n",
       "<table border=\"1\" class=\"dataframe\">\n",
       "  <thead>\n",
       "    <tr style=\"text-align: right;\">\n",
       "      <th></th>\n",
       "      <th>patientid</th>\n",
       "      <th>appointmentid</th>\n",
       "      <th>gender</th>\n",
       "      <th>scheduledday</th>\n",
       "      <th>appointmentday</th>\n",
       "      <th>age</th>\n",
       "      <th>neighbourhood</th>\n",
       "      <th>scholarship</th>\n",
       "      <th>hipertension</th>\n",
       "      <th>diabetes</th>\n",
       "      <th>alcoholism</th>\n",
       "      <th>handcap</th>\n",
       "      <th>sms_received</th>\n",
       "      <th>no_show</th>\n",
       "      <th>delay_days</th>\n",
       "    </tr>\n",
       "  </thead>\n",
       "  <tbody>\n",
       "    <tr>\n",
       "      <th>0</th>\n",
       "      <td>2.987250e+13</td>\n",
       "      <td>5642903</td>\n",
       "      <td>F</td>\n",
       "      <td>2016-04-29 18:38:08</td>\n",
       "      <td>2016-04-29</td>\n",
       "      <td>62</td>\n",
       "      <td>JARDIM DA PENHA</td>\n",
       "      <td>False</td>\n",
       "      <td>True</td>\n",
       "      <td>False</td>\n",
       "      <td>False</td>\n",
       "      <td>False</td>\n",
       "      <td>False</td>\n",
       "      <td>No</td>\n",
       "      <td>-1 days +05:21:52</td>\n",
       "    </tr>\n",
       "    <tr>\n",
       "      <th>1</th>\n",
       "      <td>5.589978e+14</td>\n",
       "      <td>5642503</td>\n",
       "      <td>M</td>\n",
       "      <td>2016-04-29 16:08:27</td>\n",
       "      <td>2016-04-29</td>\n",
       "      <td>56</td>\n",
       "      <td>JARDIM DA PENHA</td>\n",
       "      <td>False</td>\n",
       "      <td>False</td>\n",
       "      <td>False</td>\n",
       "      <td>False</td>\n",
       "      <td>False</td>\n",
       "      <td>False</td>\n",
       "      <td>No</td>\n",
       "      <td>-1 days +07:51:33</td>\n",
       "    </tr>\n",
       "  </tbody>\n",
       "</table>\n",
       "</div>"
      ],
      "text/plain": [
       "      patientid  appointmentid gender        scheduledday appointmentday  age  \\\n",
       "0  2.987250e+13        5642903      F 2016-04-29 18:38:08     2016-04-29   62   \n",
       "1  5.589978e+14        5642503      M 2016-04-29 16:08:27     2016-04-29   56   \n",
       "\n",
       "     neighbourhood  scholarship  hipertension  diabetes  alcoholism  handcap  \\\n",
       "0  JARDIM DA PENHA        False          True     False       False    False   \n",
       "1  JARDIM DA PENHA        False         False     False       False    False   \n",
       "\n",
       "   sms_received no_show        delay_days  \n",
       "0         False      No -1 days +05:21:52  \n",
       "1         False      No -1 days +07:51:33  "
      ]
     },
     "execution_count": 35,
     "metadata": {},
     "output_type": "execute_result"
    }
   ],
   "source": [
    "dap.head(2)"
   ]
  },
  {
   "cell_type": "code",
   "execution_count": 36,
   "metadata": {},
   "outputs": [
    {
     "data": {
      "text/plain": [
       "No     88193\n",
       "Yes    22315\n",
       "Name: no_show, dtype: int64"
      ]
     },
     "execution_count": 36,
     "metadata": {},
     "output_type": "execute_result"
    }
   ],
   "source": [
    "dap.no_show.value_counts()"
   ]
  },
  {
   "cell_type": "code",
   "execution_count": 37,
   "metadata": {},
   "outputs": [
    {
     "data": {
      "text/plain": [
       "(110508, 15)"
      ]
     },
     "execution_count": 37,
     "metadata": {},
     "output_type": "execute_result"
    }
   ],
   "source": [
    "# This is the new dimension\n",
    "dap.shape"
   ]
  },
  {
   "cell_type": "code",
   "execution_count": 38,
   "metadata": {
    "scrolled": true
   },
   "outputs": [
    {
     "data": {
      "text/plain": [
       "patientid                 float64\n",
       "appointmentid               int64\n",
       "gender                     object\n",
       "scheduledday       datetime64[ns]\n",
       "appointmentday     datetime64[ns]\n",
       "age                         int64\n",
       "neighbourhood              object\n",
       "scholarship                  bool\n",
       "hipertension                 bool\n",
       "diabetes                     bool\n",
       "alcoholism                   bool\n",
       "handcap                      bool\n",
       "sms_received                 bool\n",
       "no_show                    object\n",
       "delay_days        timedelta64[ns]\n",
       "dtype: object"
      ]
     },
     "execution_count": 38,
     "metadata": {},
     "output_type": "execute_result"
    }
   ],
   "source": [
    "# Now we see the data types\n",
    "dap.dtypes"
   ]
  },
  {
   "cell_type": "markdown",
   "metadata": {},
   "source": [
    "> After much debate with myself and because I want to do some regressions with the dataset some other times, I decided to convert no_show to boolean. First I will convert it to 'int' using map() and then I will convert it to 'bool' using astype(). It should be noted that this no_show variable inverts the usual response order. If a patient shows up it is recorded as 'No' and if the patient doesn't show up a 'Yes' is recorded. It is in response to the question 'No show up for appointment?'. But the default value for boolean is false, hence, in this case a 'Yes' should be mapped to 0 and a 'No' to 1. Finally 'Yes' will translate to 'False' and 'No' to 'True'. This approach will help keep the sanity of the dataset. Now let's do it."
   ]
  },
  {
   "cell_type": "code",
   "execution_count": 39,
   "metadata": {},
   "outputs": [],
   "source": [
    "# Converting string Yes and No to integer 0 and 1\n",
    "dap['no_show'] = dap['no_show'].map({'No': 1, 'Yes': 0})"
   ]
  },
  {
   "cell_type": "code",
   "execution_count": 40,
   "metadata": {},
   "outputs": [],
   "source": [
    "# Converting the data type from int to bool\n",
    "dap['no_show'] = dap['no_show'].astype(bool)"
   ]
  },
  {
   "cell_type": "code",
   "execution_count": 127,
   "metadata": {
    "scrolled": true
   },
   "outputs": [
    {
     "name": "stdout",
     "output_type": "stream",
     "text": [
      "The value counts for  scholarship variable in this dataset is: \n",
      "False    99647\n",
      "True     10861\n",
      "Name: scholarship, dtype: int64\n",
      "The value counts for  hipertension variable in this dataset is: \n",
      "False    88715\n",
      "True     21793\n",
      "Name: hipertension, dtype: int64\n",
      "The value counts for  diabetes variable in this dataset is: \n",
      "False    102568\n",
      "True       7940\n",
      "Name: diabetes, dtype: int64\n",
      "The value counts for  alcoholism variable in this dataset is: \n",
      "False    107148\n",
      "True       3360\n",
      "Name: alcoholism, dtype: int64\n",
      "The value counts for  handcap variable in this dataset is: \n",
      "False    108273\n",
      "True       2235\n",
      "Name: handcap, dtype: int64\n",
      "The value counts for  sms_received variable in this dataset is: \n",
      "False    75030\n",
      "True     35478\n",
      "Name: sms_received, dtype: int64\n",
      "The value counts for  no_show variable in this dataset is: \n",
      "True     88193\n",
      "False    22315\n",
      "Name: no_show, dtype: int64\n"
     ]
    }
   ],
   "source": [
    "# Checking to show if the change has been effected.\n",
    "# Calling the function to check        \n",
    "checking()"
   ]
  },
  {
   "cell_type": "code",
   "execution_count": 42,
   "metadata": {
    "scrolled": true
   },
   "outputs": [
    {
     "data": {
      "text/plain": [
       "patientid                 float64\n",
       "appointmentid               int64\n",
       "gender                     object\n",
       "scheduledday       datetime64[ns]\n",
       "appointmentday     datetime64[ns]\n",
       "age                         int64\n",
       "neighbourhood              object\n",
       "scholarship                  bool\n",
       "hipertension                 bool\n",
       "diabetes                     bool\n",
       "alcoholism                   bool\n",
       "handcap                      bool\n",
       "sms_received                 bool\n",
       "no_show                      bool\n",
       "delay_days        timedelta64[ns]\n",
       "dtype: object"
      ]
     },
     "execution_count": 42,
     "metadata": {},
     "output_type": "execute_result"
    }
   ],
   "source": [
    "# Checking the data types\n",
    "dap.dtypes"
   ]
  },
  {
   "cell_type": "code",
   "execution_count": 43,
   "metadata": {},
   "outputs": [
    {
     "data": {
      "text/plain": [
       "F    71824\n",
       "M    38684\n",
       "Name: gender, dtype: int64"
      ]
     },
     "execution_count": 43,
     "metadata": {},
     "output_type": "execute_result"
    }
   ],
   "source": [
    "# Now let us lok at gender\n",
    "dap.gender.value_counts()"
   ]
  },
  {
   "cell_type": "code",
   "execution_count": 44,
   "metadata": {},
   "outputs": [
    {
     "data": {
      "text/plain": [
       "Text(0.5, 1.0, 'Gender group by No show')"
      ]
     },
     "execution_count": 44,
     "metadata": {},
     "output_type": "execute_result"
    },
    {
     "data": {
      "image/png": "[encoded data removed]",
      "text/plain": [
       "<Figure size 432x288 with 1 Axes>"
      ]
     },
     "metadata": {
      "needs_background": "light"
     },
     "output_type": "display_data"
    }
   ],
   "source": [
    "# Let us see whether it will make sense to plot gender without converting to boolean\n",
    "dap.groupby('gender')['no_show'].value_counts().plot(kind='bar')\n",
    "plt.title('Gender group by No show')"
   ]
  },
  {
   "cell_type": "code",
   "execution_count": 45,
   "metadata": {},
   "outputs": [
    {
     "name": "stdout",
     "output_type": "stream",
     "text": [
      "0 patientid\n",
      "1 appointmentid\n",
      "2 gender\n",
      "3 scheduledday\n",
      "4 appointmentday\n",
      "5 age\n",
      "6 neighbourhood\n",
      "7 scholarship\n",
      "8 hipertension\n",
      "9 diabetes\n",
      "10 alcoholism\n",
      "11 handcap\n",
      "12 sms_received\n",
      "13 no_show\n",
      "14 delay_days\n"
     ]
    }
   ],
   "source": [
    "# Printing columns out\n",
    "for i, v in enumerate(dap.columns):\n",
    "    print(i,v)"
   ]
  },
  {
   "cell_type": "code",
   "execution_count": 46,
   "metadata": {},
   "outputs": [],
   "source": [
    "# Saving cleaned data before moving to the next stage of this analysis\n",
    "dap.to_csv('cleaned_noshow.csv', index=False)"
   ]
  },
  {
   "cell_type": "markdown",
   "metadata": {},
   "source": [
    "<a id='eda'></a>\n",
    "## Exploratory Data Analysis\n",
    "\n",
    "> At this stage I will explore the data using some visualizations. I will be considering bar chart and histograms where applicable. My observations will be discussed.\n",
    "\n",
    "### How does each independent variable except the identification variables correlates with the dependent variable?\n",
    "> First, let's start by visualizing each independent variable using histogram or bar chart."
   ]
  },
  {
   "cell_type": "code",
   "execution_count": 47,
   "metadata": {},
   "outputs": [
    {
     "data": {
      "image/png": "[encoded data removed]",
      "text/plain": [
       "<Figure size 432x288 with 1 Axes>"
      ]
     },
     "metadata": {
      "needs_background": "light"
     },
     "output_type": "display_data"
    }
   ],
   "source": [
    "#Plotting the histogram of gender\n",
    "dap.gender.hist();"
   ]
  },
  {
   "cell_type": "markdown",
   "metadata": {},
   "source": [
    "> The bar shows that more females book appointments than males. Let's look at the total number by gender."
   ]
  },
  {
   "cell_type": "code",
   "execution_count": 48,
   "metadata": {
    "scrolled": true
   },
   "outputs": [
    {
     "data": {
      "text/plain": [
       "F    71824\n",
       "M    38684\n",
       "Name: gender, dtype: int64"
      ]
     },
     "execution_count": 48,
     "metadata": {},
     "output_type": "execute_result"
    }
   ],
   "source": [
    "# Number of appointments per gender\n",
    "dap.gender.value_counts()"
   ]
  },
  {
   "cell_type": "code",
   "execution_count": null,
   "metadata": {},
   "outputs": [],
   "source": [
    "# User defined function for comapring each variable to no_show\n",
    "def plot_grp(groupby_col,title,figsize):\n",
    " print(dap.groupby(groupby_col)['no_show'].value_counts())\n",
    " dap.groupby(groupby_col)['no_show'].value_counts().plot(kind='bar', figsize=figsize)\n",
    " plt.title(title);"
   ]
  },
  {
   "cell_type": "code",
   "execution_count": 110,
   "metadata": {
    "scrolled": true
   },
   "outputs": [
    {
     "name": "stdout",
     "output_type": "stream",
     "text": [
      "gender  no_show\n",
      "F       True       57234\n",
      "        False      14590\n",
      "M       True       30959\n",
      "        False       7725\n",
      "Name: no_show, dtype: int64\n"
     ]
    },
    {
     "data": {
      "image/png": "[encoded data removed]",
      "text/plain": [
       "<Figure size 576x576 with 1 Axes>"
      ]
     },
     "metadata": {
      "needs_background": "light"
     },
     "output_type": "display_data"
    }
   ],
   "source": [
    "# Let us see gender numbers and plots using the plot_grp function\n",
    "plot_grp('gender','Gender compared to No Show',(8,8))"
   ]
  },
  {
   "cell_type": "code",
   "execution_count": null,
   "metadata": {},
   "outputs": [],
   "source": [
    "#Percentages that show up\n",
    "per1 = 57234/71824\n",
    "per1\n",
    "per2 = 30959/38684\n",
    "per2"
   ]
  },
  {
   "cell_type": "markdown",
   "metadata": {},
   "source": [
    "> From the counts, 33140 more females book appointment compared to males. Now how does this affect showing up for appointments?\n",
    "\n",
    "> 80.03 percent of appointments booked by females ended in a show up compared to 79.68 percent of males. A;lthough slightly more males show up on the appointment day compared to females, this difference does not appear significant. This can be visualized in the bar chart below. It shows, once again, that although more females book appointments, more females, nominally, fail to show up compared to males. Next we move on to delay_days."
   ]
  },
  {
   "cell_type": "code",
   "execution_count": 52,
   "metadata": {
    "scrolled": true
   },
   "outputs": [
    {
     "data": {
      "text/plain": [
       "count    91709.000000\n",
       "mean         1.204985\n",
       "std          0.645681\n",
       "min          1.000000\n",
       "25%          1.000000\n",
       "50%          1.000000\n",
       "75%          1.000000\n",
       "max         21.000000\n",
       "Name: no_show, dtype: float64"
      ]
     },
     "execution_count": 52,
     "metadata": {},
     "output_type": "execute_result"
    }
   ],
   "source": [
    "# Grouping no_show by delay_days. We will not plot the graph now because they are in timedeltas and we will still operate them\n",
    "day_show = dap.groupby('delay_days')['no_show'].value_counts()\n",
    "day_show.describe()"
   ]
  },
  {
   "cell_type": "markdown",
   "metadata": {},
   "source": [
    "75 percent of those that showed up have a delay_days of 1 day. This means the closer the scheduledday is to appointmentday, the greater the chance of the patient showing up. delay_days appears to be a great determinant of appointment show up. This variable may be explored further in later analysis especially when my skills have heightened. Next we move on to sms_received."
   ]
  },
  {
   "cell_type": "code",
   "execution_count": 111,
   "metadata": {},
   "outputs": [
    {
     "name": "stdout",
     "output_type": "stream",
     "text": [
      "sms_received  no_show\n",
      "False         True       62499\n",
      "              False      12531\n",
      "True          True       25694\n",
      "              False       9784\n",
      "Name: no_show, dtype: int64\n"
     ]
    },
    {
     "data": {
      "image/png": "[encoded data removed]",
      "text/plain": [
       "<Figure size 576x576 with 1 Axes>"
      ]
     },
     "metadata": {
      "needs_background": "light"
     },
     "output_type": "display_data"
    }
   ],
   "source": [
    "# Let us see whether receiving an sms matters\n",
    "plot_grp('sms_received','Sms Received compared to No Show',(8,8))\n"
   ]
  },
  {
   "cell_type": "markdown",
   "metadata": {},
   "source": [
    "> 83 percent of people that received an sms showed up compared to 72.42 percent of those that did not received an sms. In all, 70.86 percent of patients that showed up on the appointment day received an sms. From the bar chart it can vividly be seen that the chances of a patient showing up increases if the patient receives an sms before the appointment. Now we move on to scholarship. "
   ]
  },
  {
   "cell_type": "code",
   "execution_count": 112,
   "metadata": {},
   "outputs": [
    {
     "name": "stdout",
     "output_type": "stream",
     "text": [
      "scholarship  no_show\n",
      "False        True       79910\n",
      "             False      19737\n",
      "True         True        8283\n",
      "             False       2578\n",
      "Name: no_show, dtype: int64\n"
     ]
    },
    {
     "data": {
      "image/png": "[encoded data removed]",
      "text/plain": [
       "<Figure size 576x576 with 1 Axes>"
      ]
     },
     "metadata": {
      "needs_background": "light"
     },
     "output_type": "display_data"
    }
   ],
   "source": [
    "# Examining how scholarship influences showing up\n",
    "plot_grp('scholarship','Scholarship compared to No Show',(8,8))"
   ]
  },
  {
   "cell_type": "markdown",
   "metadata": {},
   "source": [
    "> Over 90 percent of patients that show up received scholarship. In the dataset, 80 percent of patients that received scholarship showed up compared to 76.26 percent of patients that did not. It seems clear enough that the receipt of scholarship has a not so strong association with showing up. This is because the data has more scholarship receipients than non-receipients. Now we consider neighbourhood."
   ]
  },
  {
   "cell_type": "code",
   "execution_count": 114,
   "metadata": {},
   "outputs": [
    {
     "data": {
      "text/plain": [
       "count     160.000000\n",
       "mean      690.675000\n",
       "std       897.743745\n",
       "min         1.000000\n",
       "25%       133.000000\n",
       "50%       366.500000\n",
       "75%       854.250000\n",
       "max      6252.000000\n",
       "Name: no_show, dtype: float64"
      ]
     },
     "execution_count": 114,
     "metadata": {},
     "output_type": "execute_result"
    }
   ],
   "source": [
    "# Examining neighbourhood versus no_show\n",
    "neigh = dap.groupby('neighbourhood')['no_show'].value_counts()\n",
    "neigh.describe()"
   ]
  },
  {
   "cell_type": "code",
   "execution_count": 116,
   "metadata": {},
   "outputs": [
    {
     "name": "stdout",
     "output_type": "stream",
     "text": [
      "neighbourhood    no_show\n",
      "AEROPORTO        True          7\n",
      "                 False         1\n",
      "ANDORINHAS       True       1740\n",
      "                 False       518\n",
      "ANTÔNIO HONÓRIO  True        220\n",
      "                            ... \n",
      "TABUAZEIRO       False       573\n",
      "UNIVERSITÁRIO    True        120\n",
      "                 False        32\n",
      "VILA RUBIM       True        710\n",
      "                 False       141\n",
      "Name: no_show, Length: 160, dtype: int64\n"
     ]
    },
    {
     "data": {
      "image/png": "[encoded data removed]",
      "text/plain": [
       "<Figure size 2880x576 with 1 Axes>"
      ]
     },
     "metadata": {
      "needs_background": "light"
     },
     "output_type": "display_data"
    }
   ],
   "source": [
    "# Now we see the individual numbers and plot the bar\n",
    "plot_grp('neighbourhood','Neighbourhood compared to No Show',(40,8));"
   ]
  },
  {
   "cell_type": "markdown",
   "metadata": {},
   "source": [
    "> While 75 percent of neighbourhoods are between 0 and 854, others have over 6000. From the jumbled chart, four neighbourhoods stood out. It, therefore, appears that some neighbourhood records more patient shows than others. We shall explore this further later. Let us move to age."
   ]
  },
  {
   "cell_type": "code",
   "execution_count": 59,
   "metadata": {},
   "outputs": [
    {
     "data": {
      "text/plain": [
       "age  no_show\n",
       "0    True       2900\n",
       "     False       639\n",
       "1    True       1858\n",
       "     False       415\n",
       "2    True       1366\n",
       "                ... \n",
       "95   False         6\n",
       "96   True         16\n",
       "     False         1\n",
       "97   True          9\n",
       "     False         2\n",
       "Name: no_show, Length: 196, dtype: int64"
      ]
     },
     "execution_count": 59,
     "metadata": {},
     "output_type": "execute_result"
    }
   ],
   "source": [
    "# Exploring age\n",
    "dap.groupby('age')['no_show'].value_counts()"
   ]
  },
  {
   "cell_type": "code",
   "execution_count": 60,
   "metadata": {},
   "outputs": [
    {
     "data": {
      "text/plain": [
       "count    110508.000000\n",
       "mean         37.078374\n",
       "std          23.096101\n",
       "min           0.000000\n",
       "25%          18.000000\n",
       "50%          37.000000\n",
       "75%          55.000000\n",
       "max          97.000000\n",
       "Name: age, dtype: float64"
      ]
     },
     "execution_count": 60,
     "metadata": {},
     "output_type": "execute_result"
    }
   ],
   "source": [
    "# Let us first make age categorical\n",
    "# So, we describe age to get the bean edges.\n",
    "dap.age.describe()"
   ]
  },
  {
   "cell_type": "code",
   "execution_count": 61,
   "metadata": {},
   "outputs": [],
   "source": [
    "# Next we create the age category column\n",
    "bin_edges = [0, 18, 37, 55, 97]\n",
    "bin_names = ['teen', 'youth', 'adult', 'old']\n",
    "dap['age_category'] = pd.cut(dap['age'], bin_edges, labels=bin_names)"
   ]
  },
  {
   "cell_type": "code",
   "execution_count": 62,
   "metadata": {},
   "outputs": [
    {
     "data": {
      "text/plain": [
       "old      27486\n",
       "youth    27250\n",
       "adult    26906\n",
       "teen     25327\n",
       "Name: age_category, dtype: int64"
      ]
     },
     "execution_count": 62,
     "metadata": {},
     "output_type": "execute_result"
    }
   ],
   "source": [
    "# Now let us check the change\n",
    "dap.tail()\n",
    "dap.age_category.value_counts()"
   ]
  },
  {
   "cell_type": "markdown",
   "metadata": {},
   "source": [
    "> These age categories seem to have no significant difference in counts. The range is 2159 which translates to just 1.95 percent of the total number of appointments in the dataset. Next, we want to group them by no_show."
   ]
  },
  {
   "cell_type": "code",
   "execution_count": 117,
   "metadata": {},
   "outputs": [
    {
     "name": "stdout",
     "output_type": "stream",
     "text": [
      "age_category  no_show\n",
      "teen          True       19619\n",
      "              False       5708\n",
      "youth         True       20836\n",
      "              False       6414\n",
      "adult         True       21651\n",
      "              False       5255\n",
      "old           True       23187\n",
      "              False       4299\n",
      "Name: no_show, dtype: int64\n"
     ]
    },
    {
     "data": {
      "image/png": "[encoded data removed]",
      "text/plain": [
       "<Figure size 576x576 with 1 Axes>"
      ]
     },
     "metadata": {
      "needs_background": "light"
     },
     "output_type": "display_data"
    }
   ],
   "source": [
    "# Grouping age_category by no_show\n",
    "plot_grp('age_category','Age category compared to No Show',(8,8));"
   ]
  },
  {
   "cell_type": "markdown",
   "metadata": {},
   "source": [
    "> From these counts and plot, it is seen that old category has the highest percentage of show up followed by the adult category, the teen category and the youth category (84.36%, 80.47%, 77.46%, 76.46% respectively). It appears that the older you are the better your chances of showing up on the appointment day. Patients older than 37 years appear to have better chances of showing up on appointment days than than younger ones. Perhaps such patients take their health more seriously. But we should also remember that some things may not show up due to their caretakers being busy. This msy also be true for some adults. Next, we examine handicap. "
   ]
  },
  {
   "cell_type": "code",
   "execution_count": 118,
   "metadata": {},
   "outputs": [
    {
     "name": "stdout",
     "output_type": "stream",
     "text": [
      "handcap  no_show\n",
      "False    True       86362\n",
      "         False      21911\n",
      "True     True        1831\n",
      "         False        404\n",
      "Name: no_show, dtype: int64\n"
     ]
    },
    {
     "data": {
      "image/png": "[encoded data removed]",
      "text/plain": [
       "<Figure size 576x576 with 1 Axes>"
      ]
     },
     "metadata": {
      "needs_background": "light"
     },
     "output_type": "display_data"
    }
   ],
   "source": [
    "# Examining handicap\n",
    "plot_grp('handcap','Handicap compared to No Show',(8,8))"
   ]
  },
  {
   "cell_type": "markdown",
   "metadata": {},
   "source": [
    "> From the charts and counts it appears that being handicapped does not have any great effect on whether a patient shows up or not. 81.92 percent of the handicaps showed up despite representing only 2.02 percent of the appointments in the dataset whereas 79.76 percent of those without handicap showed up despite their being 97. 08 percent of the dataset appointments. Next, we look at diabetes."
   ]
  },
  {
   "cell_type": "code",
   "execution_count": 120,
   "metadata": {},
   "outputs": [
    {
     "name": "stdout",
     "output_type": "stream",
     "text": [
      "diabetes  no_show\n",
      "False     True       81683\n",
      "          False      20885\n",
      "True      True        6510\n",
      "          False       1430\n",
      "Name: no_show, dtype: int64\n"
     ]
    },
    {
     "data": {
      "image/png": "[encoded data removed]",
      "text/plain": [
       "<Figure size 576x576 with 1 Axes>"
      ]
     },
     "metadata": {
      "needs_background": "light"
     },
     "output_type": "display_data"
    }
   ],
   "source": [
    "# Examining diabetes\n",
    "plot_grp('diabetes','Diabetes compared to No Show',(8,8));"
   ]
  },
  {
   "cell_type": "markdown",
   "metadata": {},
   "source": [
    "> From the charts and counts it appears that being diabetic does not have any great effect on whether a patient shows up or not. 81.99 percent of the diabetic showed up whereas 79.64 percent of those without diabetes showed up. Just like handcap, slighty more diabetic patients show up compared to non-diabetic ones. Next, we look at alcoholism."
   ]
  },
  {
   "cell_type": "code",
   "execution_count": 121,
   "metadata": {},
   "outputs": [
    {
     "name": "stdout",
     "output_type": "stream",
     "text": [
      "alcoholism  no_show\n",
      "False       True       85510\n",
      "            False      21638\n",
      "True        True        2683\n",
      "            False        677\n",
      "Name: no_show, dtype: int64\n"
     ]
    },
    {
     "data": {
      "image/png": "[encoded data removed]",
      "text/plain": [
       "<Figure size 576x576 with 1 Axes>"
      ]
     },
     "metadata": {
      "needs_background": "light"
     },
     "output_type": "display_data"
    }
   ],
   "source": [
    "# Examining whether alcoholism has effect on showing up\n",
    "plot_grp('alcoholism','Alcoholism compared to No Show',(8,8));"
   ]
  },
  {
   "cell_type": "markdown",
   "metadata": {},
   "source": [
    "> From the charts and counts it also appears that being an alcoholic does not have any effect on whether a patient shows up or not. 79.85 percent of the alcoholic showed up whereas 79.81 percent of the non-alcoholic showed up. It only slightly seems that alcoholics may remember to kkeep appointments than non-alcoholics. Next, we look at hypertension."
   ]
  },
  {
   "cell_type": "code",
   "execution_count": 122,
   "metadata": {},
   "outputs": [
    {
     "name": "stdout",
     "output_type": "stream",
     "text": [
      "hipertension  no_show\n",
      "False         True       70171\n",
      "              False      18544\n",
      "True          True       18022\n",
      "              False       3771\n",
      "Name: no_show, dtype: int64\n"
     ]
    },
    {
     "data": {
      "image/png": "[encoded data removed]",
      "text/plain": [
       "<Figure size 576x576 with 1 Axes>"
      ]
     },
     "metadata": {
      "needs_background": "light"
     },
     "output_type": "display_data"
    }
   ],
   "source": [
    "# Examining hypertension\n",
    "plot_grp('hipertension','Hypertension compared to No Show',(8,8))"
   ]
  },
  {
   "cell_type": "markdown",
   "metadata": {},
   "source": [
    "> For the variable *hipertension* it appears that being an hypertensive patient only has slight effect on showing up. 82.70 percent of the hypertensive showed up whereas 79.10 percent of the non-hypertensive showed up. This condition appears to have higher percentage difference than the other condition variables (diabetes, alcoholism,  and handicap). I will now move to the next research question."
   ]
  },
  {
   "cell_type": "markdown",
   "metadata": {},
   "source": [
    "### What factors are important to predict whether a patient will show up for their scheduled appointment?\n",
    "\n",
    "> To answer this second question, I shall be working only on variables that have shown appreciable association with no_show. These are:\n",
    "<ul>\n",
    "    <li>sms_received</li>\n",
    "    <li>age_category</li>\n",
    "    <li>scholarship</li>\n",
    "    <li>delay_days</li>\n",
    "    <li>neighbourhood</li>\n",
    "    <li>hipertension</li>\n",
    "</ul>\n",
    "\n",
    "> Now let us begin by partitioning the dataset into two namely those that showed (True = present) and those that didn't show (False = absent) on the appointment day."
   ]
  },
  {
   "cell_type": "code",
   "execution_count": 73,
   "metadata": {},
   "outputs": [],
   "source": [
    "# Partitioning the dataset to show as present and no show as absent\n",
    "present = dap.no_show == True\n",
    "absent = dap.no_show == False\n"
   ]
  },
  {
   "cell_type": "code",
   "execution_count": 74,
   "metadata": {},
   "outputs": [
    {
     "data": {
      "image/png": "[encoded data removed]",
      "text/plain": [
       "<Figure size 432x288 with 1 Axes>"
      ]
     },
     "metadata": {
      "needs_background": "light"
     },
     "output_type": "display_data"
    }
   ],
   "source": [
    "# Now I will use these new partitions to look at each desired variable. I will start with sms_received\n",
    "# Let us plot the bar for both partitions based on sms_received\n",
    "dap.sms_received[present].value_counts().plot(kind='bar', alpha=0.5, color='purple', label='showed')\n",
    "dap.sms_received[absent].value_counts().plot(kind='bar', alpha=0.5, color='green', label='no show')\n",
    "plt.title('Sms received partitioned by showed and no show')\n",
    "plt.legend();"
   ]
  },
  {
   "cell_type": "code",
   "execution_count": 75,
   "metadata": {},
   "outputs": [
    {
     "data": {
      "text/plain": [
       "False    62499\n",
       "True     25694\n",
       "Name: sms_received, dtype: int64"
      ]
     },
     "execution_count": 75,
     "metadata": {},
     "output_type": "execute_result"
    }
   ],
   "source": [
    "# Now we will look at the numbers\n",
    "dap.sms_received[present].value_counts()"
   ]
  },
  {
   "cell_type": "code",
   "execution_count": 76,
   "metadata": {},
   "outputs": [
    {
     "data": {
      "text/plain": [
       "False    12531\n",
       "True      9784\n",
       "Name: sms_received, dtype: int64"
      ]
     },
     "execution_count": 76,
     "metadata": {},
     "output_type": "execute_result"
    }
   ],
   "source": [
    "dap.sms_received[absent].value_counts()"
   ]
  },
  {
   "cell_type": "markdown",
   "metadata": {},
   "source": [
    "> Only 43.84 percent of those that were absent did not receive sms but the remaining 56.16 percent received an sms. 29.13 percent of those present did not receive sms. It therefore appears that receiving sms seems to be a disincentive to showing up for appointments. Next, we look at age_category."
   ]
  },
  {
   "cell_type": "code",
   "execution_count": 77,
   "metadata": {},
   "outputs": [
    {
     "data": {
      "image/png": "[encoded data removed]",
      "text/plain": [
       "<Figure size 432x288 with 1 Axes>"
      ]
     },
     "metadata": {
      "needs_background": "light"
     },
     "output_type": "display_data"
    }
   ],
   "source": [
    "# Let us plot the bar for both partitions based on age_category\n",
    "dap.age_category[present].value_counts().plot(kind='bar', alpha=0.7, color='purple', label='showed')\n",
    "dap.age_category[absent].value_counts().plot(kind='bar', alpha=0.7, color='green', label='no show')\n",
    "plt.title('Age category partitioned by showed and no show')\n",
    "plt.legend();"
   ]
  },
  {
   "cell_type": "code",
   "execution_count": 78,
   "metadata": {},
   "outputs": [
    {
     "data": {
      "text/plain": [
       "old      23187\n",
       "adult    21651\n",
       "youth    20836\n",
       "teen     19619\n",
       "Name: age_category, dtype: int64"
      ]
     },
     "execution_count": 78,
     "metadata": {},
     "output_type": "execute_result"
    }
   ],
   "source": [
    "# Now we look at the numbers.\n",
    "dap.age_category[present].value_counts()"
   ]
  },
  {
   "cell_type": "code",
   "execution_count": 79,
   "metadata": {},
   "outputs": [
    {
     "data": {
      "text/plain": [
       "youth    6414\n",
       "teen     5708\n",
       "adult    5255\n",
       "old      4299\n",
       "Name: age_category, dtype: int64"
      ]
     },
     "execution_count": 79,
     "metadata": {},
     "output_type": "execute_result"
    }
   ],
   "source": [
    "dap.age_category[absent].value_counts()"
   ]
  },
  {
   "cell_type": "markdown",
   "metadata": {},
   "source": [
    "> 50.84 percent of those present are older than 37 years but 54.32 percent of those absent are younger than 37 years. The youths are the group with the highest absent rate while the old category is the group with the highest present rate. So it appears, as earlier discussed that age is a useful variable in determining show or no show. Next, we look at scholarship."
   ]
  },
  {
   "cell_type": "code",
   "execution_count": 80,
   "metadata": {},
   "outputs": [
    {
     "data": {
      "image/png": "[encoded data removed]",
      "text/plain": [
       "<Figure size 432x288 with 1 Axes>"
      ]
     },
     "metadata": {
      "needs_background": "light"
     },
     "output_type": "display_data"
    }
   ],
   "source": [
    "# Let us plot the bar for both partitions based on scholarship\n",
    "dap.scholarship[present].value_counts().plot(kind='bar', alpha=0.7, color='purple', label='showed')\n",
    "dap.scholarship[absent].value_counts().plot(kind='bar', alpha=0.7, color='green', label='no show')\n",
    "plt.title('Scholarship partitioned by showed and no show')\n",
    "plt.legend();"
   ]
  },
  {
   "cell_type": "code",
   "execution_count": 81,
   "metadata": {},
   "outputs": [
    {
     "data": {
      "text/plain": [
       "False    79910\n",
       "True      8283\n",
       "Name: scholarship, dtype: int64"
      ]
     },
     "execution_count": 81,
     "metadata": {},
     "output_type": "execute_result"
    }
   ],
   "source": [
    "# Now we look at the numbers\n",
    "dap.scholarship[present].value_counts()"
   ]
  },
  {
   "cell_type": "code",
   "execution_count": 82,
   "metadata": {
    "scrolled": true
   },
   "outputs": [
    {
     "data": {
      "text/plain": [
       "False    19737\n",
       "True      2578\n",
       "Name: scholarship, dtype: int64"
      ]
     },
     "execution_count": 82,
     "metadata": {},
     "output_type": "execute_result"
    }
   ],
   "source": [
    "dap.scholarship[absent].value_counts()"
   ]
  },
  {
   "cell_type": "markdown",
   "metadata": {},
   "source": [
    "> Only 11.54 percent of those who didn't receive scholarship did not showed up. The rest received scholarship and yet did not show up. Although over 90 percent of those that showed up received scholarship, the whole non-scholarship receipients in the data set are just 9.83 percent of the dataset and over 76 percent of them showed up. Receiving scholarship therefore appears to be a disincentive to showing up for appointments. Next, we look at hipertension."
   ]
  },
  {
   "cell_type": "code",
   "execution_count": 83,
   "metadata": {},
   "outputs": [
    {
     "data": {
      "image/png": "[encoded data removed]",
      "text/plain": [
       "<Figure size 432x288 with 1 Axes>"
      ]
     },
     "metadata": {
      "needs_background": "light"
     },
     "output_type": "display_data"
    }
   ],
   "source": [
    "# Let us plot the bar for both partitions based on hipertension\n",
    "dap.hipertension[present].value_counts().plot(kind='bar', alpha=0.7, color='purple', label='showed')\n",
    "dap.hipertension[absent].value_counts().plot(kind='bar', alpha=0.7, color='green', label='no show')\n",
    "plt.title('Hypertension partitioned by showed and no show')\n",
    "plt.legend();"
   ]
  },
  {
   "cell_type": "code",
   "execution_count": 84,
   "metadata": {},
   "outputs": [
    {
     "data": {
      "text/plain": [
       "False    70171\n",
       "True     18022\n",
       "Name: hipertension, dtype: int64"
      ]
     },
     "execution_count": 84,
     "metadata": {},
     "output_type": "execute_result"
    }
   ],
   "source": [
    "# Now we examine the numbers\n",
    "dap.hipertension[present].value_counts()"
   ]
  },
  {
   "cell_type": "code",
   "execution_count": 85,
   "metadata": {},
   "outputs": [
    {
     "data": {
      "text/plain": [
       "False    18544\n",
       "True      3771\n",
       "Name: hipertension, dtype: int64"
      ]
     },
     "execution_count": 85,
     "metadata": {},
     "output_type": "execute_result"
    }
   ],
   "source": [
    "dap.hipertension[absent].value_counts()"
   ]
  },
  {
   "cell_type": "markdown",
   "metadata": {},
   "source": [
    "> From the chart and the numbers, it appears that a greater proportion of hypertensive patients showed up comapred to the non-hypertensive ones. Perhaps appointments booked by hypertensive patients have a greater chance of resulting in a show. We will now look at neighbourhood."
   ]
  },
  {
   "cell_type": "code",
   "execution_count": 86,
   "metadata": {},
   "outputs": [
    {
     "data": {
      "image/png": "[encoded data removed]",
      "text/plain": [
       "<Figure size 432x288 with 1 Axes>"
      ]
     },
     "metadata": {
      "needs_background": "light"
     },
     "output_type": "display_data"
    }
   ],
   "source": [
    "# Let us plot the bar for both partitions based on neighbourhood\n",
    "dap.neighbourhood[present].value_counts().plot(kind='bar', alpha=0.7, color='purple', label='showed')\n",
    "dap.neighbourhood[absent].value_counts().plot(kind='bar', alpha=0.7, color='green', label='no show')\n",
    "plt.title('Neighbourhood partitioned by showed and no show')\n",
    "plt.legend()\n",
    "plt.savefig(\"neighbourhood.png\");"
   ]
  },
  {
   "cell_type": "code",
   "execution_count": 87,
   "metadata": {},
   "outputs": [
    {
     "data": {
      "text/plain": [
       "JARDIM CAMBURI       6252\n",
       "MARIA ORTIZ          4585\n",
       "RESISTÊNCIA          3525\n",
       "JARDIM DA PENHA      3246\n",
       "SANTA MARTHA         2634\n",
       "                     ... \n",
       "PONTAL DE CAMBURI      57\n",
       "ILHA DO BOI            32\n",
       "ILHA DO FRADE           8\n",
       "AEROPORTO               7\n",
       "PARQUE INDUSTRIAL       1\n",
       "Name: neighbourhood, Length: 80, dtype: int64"
      ]
     },
     "execution_count": 87,
     "metadata": {},
     "output_type": "execute_result"
    }
   ],
   "source": [
    "# Now shall we look at the numbers\n",
    "dap.neighbourhood[present].value_counts()"
   ]
  },
  {
   "cell_type": "code",
   "execution_count": 88,
   "metadata": {
    "scrolled": true
   },
   "outputs": [
    {
     "data": {
      "text/plain": [
       "JARDIM CAMBURI                 1465\n",
       "MARIA ORTIZ                    1219\n",
       "ITARARÉ                         923\n",
       "RESISTÊNCIA                     906\n",
       "CENTRO                          703\n",
       "                               ... \n",
       "PONTAL DE CAMBURI                12\n",
       "ILHA DO BOI                       3\n",
       "ILHAS OCEÂNICAS DE TRINDADE       2\n",
       "ILHA DO FRADE                     2\n",
       "AEROPORTO                         1\n",
       "Name: neighbourhood, Length: 80, dtype: int64"
      ]
     },
     "execution_count": 88,
     "metadata": {},
     "output_type": "execute_result"
    }
   ],
   "source": [
    "dap.neighbourhood[absent].value_counts()"
   ]
  },
  {
   "cell_type": "markdown",
   "metadata": {},
   "source": [
    "> These bars and numbers shows that some neighbourhoods book more appointments than others. It also shows that some neighbourhoods also show up on appointment days than others. JARDIM CAMBURI, MARIA ORTIZ have highest no show rates while  RESISTÊNCIA, JARDIM DA PENHA, SANTA MARTHA, and JARDIM CAMBURI, MARIA ORTIZ have higher than average show rates. So, it appears that the neighbourhood where a patient is from is a great factor in determining whether the patient will show up or not. Next, we look at delay_days."
   ]
  },
  {
   "cell_type": "code",
   "execution_count": 89,
   "metadata": {
    "scrolled": false
   },
   "outputs": [
    {
     "data": {
      "text/plain": [
       "<matplotlib.axes._subplots.AxesSubplot at 0x269d223e9b0>"
      ]
     },
     "execution_count": 89,
     "metadata": {},
     "output_type": "execute_result"
    },
    {
     "data": {
      "image/png": "[encoded data removed]",
      "text/plain": [
       "<Figure size 432x288 with 1 Axes>"
      ]
     },
     "metadata": {
      "needs_background": "light"
     },
     "output_type": "display_data"
    }
   ],
   "source": [
    "# Let us see the distribution for delay_days. To do this we need to convert the timedeltas to hours( I choose hours).\n",
    "dap['delay_days'].astype('timedelta64[h]').hist()"
   ]
  },
  {
   "cell_type": "markdown",
   "metadata": {},
   "source": [
    "> This is skewed to the right. It means the closer the scheduledday to the appointment day, the greater the chances of the patient showing up. This seems a strong factor. But let us explore it more."
   ]
  },
  {
   "cell_type": "code",
   "execution_count": 90,
   "metadata": {},
   "outputs": [],
   "source": [
    "# Next we put this hour based delay_days in a variable\n",
    "hours = dap['delay_days'].astype('timedelta64[h]')"
   ]
  },
  {
   "cell_type": "code",
   "execution_count": 91,
   "metadata": {},
   "outputs": [],
   "source": [
    "# Now we add hours to our data frame\n",
    "dap['hours'] = hours"
   ]
  },
  {
   "cell_type": "code",
   "execution_count": null,
   "metadata": {},
   "outputs": [],
   "source": []
  },
  {
   "cell_type": "code",
   "execution_count": 93,
   "metadata": {},
   "outputs": [
    {
     "data": {
      "text/html": [
       "<div>\n",
       "<style scoped>\n",
       "    .dataframe tbody tr th:only-of-type {\n",
       "        vertical-align: middle;\n",
       "    }\n",
       "\n",
       "    .dataframe tbody tr th {\n",
       "        vertical-align: top;\n",
       "    }\n",
       "\n",
       "    .dataframe thead th {\n",
       "        text-align: right;\n",
       "    }\n",
       "</style>\n",
       "<table border=\"1\" class=\"dataframe\">\n",
       "  <thead>\n",
       "    <tr style=\"text-align: right;\">\n",
       "      <th></th>\n",
       "      <th>patientid</th>\n",
       "      <th>appointmentid</th>\n",
       "      <th>gender</th>\n",
       "      <th>scheduledday</th>\n",
       "      <th>appointmentday</th>\n",
       "      <th>age</th>\n",
       "      <th>neighbourhood</th>\n",
       "      <th>scholarship</th>\n",
       "      <th>hipertension</th>\n",
       "      <th>diabetes</th>\n",
       "      <th>alcoholism</th>\n",
       "      <th>handcap</th>\n",
       "      <th>sms_received</th>\n",
       "      <th>no_show</th>\n",
       "      <th>delay_days</th>\n",
       "      <th>age_category</th>\n",
       "      <th>hours</th>\n",
       "    </tr>\n",
       "  </thead>\n",
       "  <tbody>\n",
       "    <tr>\n",
       "      <th>0</th>\n",
       "      <td>2.987250e+13</td>\n",
       "      <td>5642903</td>\n",
       "      <td>F</td>\n",
       "      <td>2016-04-29 18:38:08</td>\n",
       "      <td>2016-04-29</td>\n",
       "      <td>62</td>\n",
       "      <td>JARDIM DA PENHA</td>\n",
       "      <td>False</td>\n",
       "      <td>True</td>\n",
       "      <td>False</td>\n",
       "      <td>False</td>\n",
       "      <td>False</td>\n",
       "      <td>False</td>\n",
       "      <td>True</td>\n",
       "      <td>-1 days +05:21:52</td>\n",
       "      <td>old</td>\n",
       "      <td>-19.0</td>\n",
       "    </tr>\n",
       "    <tr>\n",
       "      <th>1</th>\n",
       "      <td>5.589978e+14</td>\n",
       "      <td>5642503</td>\n",
       "      <td>M</td>\n",
       "      <td>2016-04-29 16:08:27</td>\n",
       "      <td>2016-04-29</td>\n",
       "      <td>56</td>\n",
       "      <td>JARDIM DA PENHA</td>\n",
       "      <td>False</td>\n",
       "      <td>False</td>\n",
       "      <td>False</td>\n",
       "      <td>False</td>\n",
       "      <td>False</td>\n",
       "      <td>False</td>\n",
       "      <td>True</td>\n",
       "      <td>-1 days +07:51:33</td>\n",
       "      <td>old</td>\n",
       "      <td>-17.0</td>\n",
       "    </tr>\n",
       "    <tr>\n",
       "      <th>2</th>\n",
       "      <td>4.262962e+12</td>\n",
       "      <td>5642549</td>\n",
       "      <td>F</td>\n",
       "      <td>2016-04-29 16:19:04</td>\n",
       "      <td>2016-04-29</td>\n",
       "      <td>62</td>\n",
       "      <td>MATA DA PRAIA</td>\n",
       "      <td>False</td>\n",
       "      <td>False</td>\n",
       "      <td>False</td>\n",
       "      <td>False</td>\n",
       "      <td>False</td>\n",
       "      <td>False</td>\n",
       "      <td>True</td>\n",
       "      <td>-1 days +07:40:56</td>\n",
       "      <td>old</td>\n",
       "      <td>-17.0</td>\n",
       "    </tr>\n",
       "    <tr>\n",
       "      <th>3</th>\n",
       "      <td>8.679512e+11</td>\n",
       "      <td>5642828</td>\n",
       "      <td>F</td>\n",
       "      <td>2016-04-29 17:29:31</td>\n",
       "      <td>2016-04-29</td>\n",
       "      <td>8</td>\n",
       "      <td>PONTAL DE CAMBURI</td>\n",
       "      <td>False</td>\n",
       "      <td>False</td>\n",
       "      <td>False</td>\n",
       "      <td>False</td>\n",
       "      <td>False</td>\n",
       "      <td>False</td>\n",
       "      <td>True</td>\n",
       "      <td>-1 days +06:30:29</td>\n",
       "      <td>teen</td>\n",
       "      <td>-18.0</td>\n",
       "    </tr>\n",
       "    <tr>\n",
       "      <th>4</th>\n",
       "      <td>8.841186e+12</td>\n",
       "      <td>5642494</td>\n",
       "      <td>F</td>\n",
       "      <td>2016-04-29 16:07:23</td>\n",
       "      <td>2016-04-29</td>\n",
       "      <td>56</td>\n",
       "      <td>JARDIM DA PENHA</td>\n",
       "      <td>False</td>\n",
       "      <td>True</td>\n",
       "      <td>True</td>\n",
       "      <td>False</td>\n",
       "      <td>False</td>\n",
       "      <td>False</td>\n",
       "      <td>True</td>\n",
       "      <td>-1 days +07:52:37</td>\n",
       "      <td>old</td>\n",
       "      <td>-17.0</td>\n",
       "    </tr>\n",
       "  </tbody>\n",
       "</table>\n",
       "</div>"
      ],
      "text/plain": [
       "      patientid  appointmentid gender        scheduledday appointmentday  age  \\\n",
       "0  2.987250e+13        5642903      F 2016-04-29 18:38:08     2016-04-29   62   \n",
       "1  5.589978e+14        5642503      M 2016-04-29 16:08:27     2016-04-29   56   \n",
       "2  4.262962e+12        5642549      F 2016-04-29 16:19:04     2016-04-29   62   \n",
       "3  8.679512e+11        5642828      F 2016-04-29 17:29:31     2016-04-29    8   \n",
       "4  8.841186e+12        5642494      F 2016-04-29 16:07:23     2016-04-29   56   \n",
       "\n",
       "       neighbourhood  scholarship  hipertension  diabetes  alcoholism  \\\n",
       "0    JARDIM DA PENHA        False          True     False       False   \n",
       "1    JARDIM DA PENHA        False         False     False       False   \n",
       "2      MATA DA PRAIA        False         False     False       False   \n",
       "3  PONTAL DE CAMBURI        False         False     False       False   \n",
       "4    JARDIM DA PENHA        False          True      True       False   \n",
       "\n",
       "   handcap  sms_received  no_show        delay_days age_category  hours  \n",
       "0    False         False     True -1 days +05:21:52          old  -19.0  \n",
       "1    False         False     True -1 days +07:51:33          old  -17.0  \n",
       "2    False         False     True -1 days +07:40:56          old  -17.0  \n",
       "3    False         False     True -1 days +06:30:29         teen  -18.0  \n",
       "4    False         False     True -1 days +07:52:37          old  -17.0  "
      ]
     },
     "execution_count": 93,
     "metadata": {},
     "output_type": "execute_result"
    }
   ],
   "source": [
    "dap.head()"
   ]
  },
  {
   "cell_type": "code",
   "execution_count": 94,
   "metadata": {},
   "outputs": [
    {
     "data": {
      "image/png": "[encoded data removed]",
      "text/plain": [
       "<Figure size 432x288 with 1 Axes>"
      ]
     },
     "metadata": {
      "needs_background": "light"
     },
     "output_type": "display_data"
    }
   ],
   "source": [
    "# Let us plot the histogram for both partitions based on hours\n",
    "dap.hours[present].value_counts().hist(alpha=0.7, color='purple', label='showed')\n",
    "dap.hours[absent].value_counts().hist(alpha=0.7, color='green', label='no show')\n",
    "plt.title('Hours to Appointment partitioned by showed and no show')\n",
    "plt.legend()\n",
    "plt.savefig(\"hours.png\");"
   ]
  },
  {
   "cell_type": "markdown",
   "metadata": {},
   "source": [
    "> It is seen that almost all schedules close to the appointment day resulted in a show. Let us create an hour category for better visualization."
   ]
  },
  {
   "cell_type": "code",
   "execution_count": 95,
   "metadata": {},
   "outputs": [
    {
     "data": {
      "text/plain": [
       "count    110508.000000\n",
       "mean        232.615593\n",
       "std         365.830112\n",
       "min        -158.000000\n",
       "25%          -9.000000\n",
       "50%          83.000000\n",
       "75%         343.000000\n",
       "max        4285.000000\n",
       "Name: hours, dtype: float64"
      ]
     },
     "execution_count": 95,
     "metadata": {},
     "output_type": "execute_result"
    }
   ],
   "source": [
    "# Getting the bin_edges\n",
    "dap.hours.describe()"
   ]
  },
  {
   "cell_type": "code",
   "execution_count": 96,
   "metadata": {},
   "outputs": [
    {
     "data": {
      "text/html": [
       "<div>\n",
       "<style scoped>\n",
       "    .dataframe tbody tr th:only-of-type {\n",
       "        vertical-align: middle;\n",
       "    }\n",
       "\n",
       "    .dataframe tbody tr th {\n",
       "        vertical-align: top;\n",
       "    }\n",
       "\n",
       "    .dataframe thead th {\n",
       "        text-align: right;\n",
       "    }\n",
       "</style>\n",
       "<table border=\"1\" class=\"dataframe\">\n",
       "  <thead>\n",
       "    <tr style=\"text-align: right;\">\n",
       "      <th></th>\n",
       "      <th>patientid</th>\n",
       "      <th>appointmentid</th>\n",
       "      <th>gender</th>\n",
       "      <th>scheduledday</th>\n",
       "      <th>appointmentday</th>\n",
       "      <th>age</th>\n",
       "      <th>neighbourhood</th>\n",
       "      <th>scholarship</th>\n",
       "      <th>hipertension</th>\n",
       "      <th>diabetes</th>\n",
       "      <th>alcoholism</th>\n",
       "      <th>handcap</th>\n",
       "      <th>sms_received</th>\n",
       "      <th>no_show</th>\n",
       "      <th>delay_days</th>\n",
       "      <th>age_category</th>\n",
       "      <th>hours</th>\n",
       "      <th>hour_category</th>\n",
       "    </tr>\n",
       "  </thead>\n",
       "  <tbody>\n",
       "    <tr>\n",
       "      <th>0</th>\n",
       "      <td>2.987250e+13</td>\n",
       "      <td>5642903</td>\n",
       "      <td>F</td>\n",
       "      <td>2016-04-29 18:38:08</td>\n",
       "      <td>2016-04-29</td>\n",
       "      <td>62</td>\n",
       "      <td>JARDIM DA PENHA</td>\n",
       "      <td>False</td>\n",
       "      <td>True</td>\n",
       "      <td>False</td>\n",
       "      <td>False</td>\n",
       "      <td>False</td>\n",
       "      <td>False</td>\n",
       "      <td>True</td>\n",
       "      <td>-1 days +05:21:52</td>\n",
       "      <td>old</td>\n",
       "      <td>-19.0</td>\n",
       "      <td>very-close</td>\n",
       "    </tr>\n",
       "    <tr>\n",
       "      <th>1</th>\n",
       "      <td>5.589978e+14</td>\n",
       "      <td>5642503</td>\n",
       "      <td>M</td>\n",
       "      <td>2016-04-29 16:08:27</td>\n",
       "      <td>2016-04-29</td>\n",
       "      <td>56</td>\n",
       "      <td>JARDIM DA PENHA</td>\n",
       "      <td>False</td>\n",
       "      <td>False</td>\n",
       "      <td>False</td>\n",
       "      <td>False</td>\n",
       "      <td>False</td>\n",
       "      <td>False</td>\n",
       "      <td>True</td>\n",
       "      <td>-1 days +07:51:33</td>\n",
       "      <td>old</td>\n",
       "      <td>-17.0</td>\n",
       "      <td>very-close</td>\n",
       "    </tr>\n",
       "    <tr>\n",
       "      <th>2</th>\n",
       "      <td>4.262962e+12</td>\n",
       "      <td>5642549</td>\n",
       "      <td>F</td>\n",
       "      <td>2016-04-29 16:19:04</td>\n",
       "      <td>2016-04-29</td>\n",
       "      <td>62</td>\n",
       "      <td>MATA DA PRAIA</td>\n",
       "      <td>False</td>\n",
       "      <td>False</td>\n",
       "      <td>False</td>\n",
       "      <td>False</td>\n",
       "      <td>False</td>\n",
       "      <td>False</td>\n",
       "      <td>True</td>\n",
       "      <td>-1 days +07:40:56</td>\n",
       "      <td>old</td>\n",
       "      <td>-17.0</td>\n",
       "      <td>very-close</td>\n",
       "    </tr>\n",
       "    <tr>\n",
       "      <th>3</th>\n",
       "      <td>8.679512e+11</td>\n",
       "      <td>5642828</td>\n",
       "      <td>F</td>\n",
       "      <td>2016-04-29 17:29:31</td>\n",
       "      <td>2016-04-29</td>\n",
       "      <td>8</td>\n",
       "      <td>PONTAL DE CAMBURI</td>\n",
       "      <td>False</td>\n",
       "      <td>False</td>\n",
       "      <td>False</td>\n",
       "      <td>False</td>\n",
       "      <td>False</td>\n",
       "      <td>False</td>\n",
       "      <td>True</td>\n",
       "      <td>-1 days +06:30:29</td>\n",
       "      <td>teen</td>\n",
       "      <td>-18.0</td>\n",
       "      <td>very-close</td>\n",
       "    </tr>\n",
       "    <tr>\n",
       "      <th>4</th>\n",
       "      <td>8.841186e+12</td>\n",
       "      <td>5642494</td>\n",
       "      <td>F</td>\n",
       "      <td>2016-04-29 16:07:23</td>\n",
       "      <td>2016-04-29</td>\n",
       "      <td>56</td>\n",
       "      <td>JARDIM DA PENHA</td>\n",
       "      <td>False</td>\n",
       "      <td>True</td>\n",
       "      <td>True</td>\n",
       "      <td>False</td>\n",
       "      <td>False</td>\n",
       "      <td>False</td>\n",
       "      <td>True</td>\n",
       "      <td>-1 days +07:52:37</td>\n",
       "      <td>old</td>\n",
       "      <td>-17.0</td>\n",
       "      <td>very-close</td>\n",
       "    </tr>\n",
       "  </tbody>\n",
       "</table>\n",
       "</div>"
      ],
      "text/plain": [
       "      patientid  appointmentid gender        scheduledday appointmentday  age  \\\n",
       "0  2.987250e+13        5642903      F 2016-04-29 18:38:08     2016-04-29   62   \n",
       "1  5.589978e+14        5642503      M 2016-04-29 16:08:27     2016-04-29   56   \n",
       "2  4.262962e+12        5642549      F 2016-04-29 16:19:04     2016-04-29   62   \n",
       "3  8.679512e+11        5642828      F 2016-04-29 17:29:31     2016-04-29    8   \n",
       "4  8.841186e+12        5642494      F 2016-04-29 16:07:23     2016-04-29   56   \n",
       "\n",
       "       neighbourhood  scholarship  hipertension  diabetes  alcoholism  \\\n",
       "0    JARDIM DA PENHA        False          True     False       False   \n",
       "1    JARDIM DA PENHA        False         False     False       False   \n",
       "2      MATA DA PRAIA        False         False     False       False   \n",
       "3  PONTAL DE CAMBURI        False         False     False       False   \n",
       "4    JARDIM DA PENHA        False          True      True       False   \n",
       "\n",
       "   handcap  sms_received  no_show        delay_days age_category  hours  \\\n",
       "0    False         False     True -1 days +05:21:52          old  -19.0   \n",
       "1    False         False     True -1 days +07:51:33          old  -17.0   \n",
       "2    False         False     True -1 days +07:40:56          old  -17.0   \n",
       "3    False         False     True -1 days +06:30:29         teen  -18.0   \n",
       "4    False         False     True -1 days +07:52:37          old  -17.0   \n",
       "\n",
       "  hour_category  \n",
       "0    very-close  \n",
       "1    very-close  \n",
       "2    very-close  \n",
       "3    very-close  \n",
       "4    very-close  "
      ]
     },
     "execution_count": 96,
     "metadata": {},
     "output_type": "execute_result"
    }
   ],
   "source": [
    "# Creating the hour_category variable\n",
    "bin_edges = [-158, -9, 83, 343, 4285]\n",
    "bin_names = ['very-close', 'mod-close', 'close', 'far']\n",
    "dap['hour_category'] = pd.cut(dap['hours'], bin_edges, labels=bin_names)\n",
    "dap.head()"
   ]
  },
  {
   "cell_type": "code",
   "execution_count": 97,
   "metadata": {},
   "outputs": [
    {
     "data": {
      "image/png": "[encoded data removed]",
      "text/plain": [
       "<Figure size 432x288 with 1 Axes>"
      ]
     },
     "metadata": {
      "needs_background": "light"
     },
     "output_type": "display_data"
    }
   ],
   "source": [
    "# Visualizing the hour category\n",
    "dap.hour_category[present].value_counts().hist(alpha=0.7, color='purple', label='showed')\n",
    "dap.hour_category[absent].value_counts().hist(alpha=0.7, color='green', label='no show')\n",
    "plt.title('Hours to Appointment category partitioned by showed and no show')\n",
    "plt.legend()\n",
    "plt.savefig(\"hours_cat.png\");"
   ]
  },
  {
   "cell_type": "code",
   "execution_count": 98,
   "metadata": {
    "scrolled": true
   },
   "outputs": [
    {
     "data": {
      "image/png": "[encoded data removed]",
      "text/plain": [
       "<Figure size 432x288 with 1 Axes>"
      ]
     },
     "metadata": {
      "needs_background": "light"
     },
     "output_type": "display_data"
    }
   ],
   "source": [
    "# Visualizing the hour category\n",
    "dap.hour_category[present].value_counts().plot(kind='bar', alpha=0.7, color='purple', label='showed')\n",
    "dap.hour_category[absent].value_counts().plot(kind='bar', alpha=0.7, color='green', label='no show')\n",
    "plt.title('Bar of Hours to Appointment category partitioned by showed and no show')\n",
    "plt.legend()\n",
    "plt.savefig(\"hours_barcat.png\");"
   ]
  },
  {
   "cell_type": "code",
   "execution_count": 99,
   "metadata": {},
   "outputs": [
    {
     "data": {
      "text/plain": [
       "very-close    28473\n",
       "mod-close     21210\n",
       "close         19942\n",
       "far           18568\n",
       "Name: hour_category, dtype: int64"
      ]
     },
     "execution_count": 99,
     "metadata": {},
     "output_type": "execute_result"
    }
   ],
   "source": [
    "# Let us see some numbers\n",
    "dap.hour_category[present].value_counts()"
   ]
  },
  {
   "cell_type": "code",
   "execution_count": 100,
   "metadata": {},
   "outputs": [
    {
     "data": {
      "text/plain": [
       "far           9020\n",
       "close         7651\n",
       "mod-close     4226\n",
       "very-close    1417\n",
       "Name: hour_category, dtype: int64"
      ]
     },
     "execution_count": 100,
     "metadata": {},
     "output_type": "execute_result"
    }
   ],
   "source": [
    "dap.hour_category[absent].value_counts()"
   ]
  },
  {
   "cell_type": "markdown",
   "metadata": {},
   "source": [
    "> From these histograms and bars, it is clear that most patients that show has a delay day of not greater than 343 hours which is approximately 2 weeks. Interestingly a greater proportion of shows occur with appointments with delay days of less than 4 days (83 hours). 74.71 percent of no shows (absent) is attributable to delay_days of greater than 4 days. Hence, delay_days is a strong factor in determining appointment shows. Finally let us look at gender again."
   ]
  },
  {
   "cell_type": "code",
   "execution_count": 101,
   "metadata": {},
   "outputs": [
    {
     "data": {
      "image/png": "[encoded data removed]",
      "text/plain": [
       "<Figure size 432x288 with 1 Axes>"
      ]
     },
     "metadata": {
      "needs_background": "light"
     },
     "output_type": "display_data"
    }
   ],
   "source": [
    "#Let us look at the bar chart for gender\n",
    "dap.gender[present].value_counts().plot(kind='bar', alpha=0.7, color='purple', label='showed')\n",
    "dap.gender[absent].value_counts().plot(kind='bar', alpha=0.7, color='green', label='no show')\n",
    "plt.title('Gender partitioned by showed and no show')\n",
    "plt.legend()\n",
    "plt.savefig(\"gender.png\");"
   ]
  },
  {
   "cell_type": "code",
   "execution_count": 102,
   "metadata": {},
   "outputs": [
    {
     "data": {
      "text/plain": [
       "F    57234\n",
       "M    30959\n",
       "Name: gender, dtype: int64"
      ]
     },
     "execution_count": 102,
     "metadata": {},
     "output_type": "execute_result"
    }
   ],
   "source": [
    "# Let us see the numbers\n",
    "dap.gender[present].value_counts()"
   ]
  },
  {
   "cell_type": "code",
   "execution_count": 103,
   "metadata": {},
   "outputs": [
    {
     "data": {
      "text/plain": [
       "F    14590\n",
       "M     7725\n",
       "Name: gender, dtype: int64"
      ]
     },
     "execution_count": 103,
     "metadata": {},
     "output_type": "execute_result"
    }
   ],
   "source": [
    "dap.gender[absent].value_counts()"
   ]
  },
  {
   "cell_type": "code",
   "execution_count": 104,
   "metadata": {},
   "outputs": [],
   "source": [
    "# I want to save my final cleaned no-show-appointments dataset\n",
    "dap.to_csv('final_show.csv', index=False)"
   ]
  },
  {
   "cell_type": "markdown",
   "metadata": {},
   "source": [
    "> A greater proportion of appointments scheduled by males resulted in  a show compared to those booked by females. This is interesting because more females book appointments than males.\n",
    "\n",
    ">At this point, I want to say I have finished the exploration of the data. The next section draws the conclusion."
   ]
  },
  {
   "cell_type": "markdown",
   "metadata": {},
   "source": [
    "### Conclusions\n",
    "\n",
    "> Conclusively, the following factors appears to be important in determining whether a patient show on the appointment day or not. They are:\n",
    "<ul>\n",
    "    <li>neighbourhood</li>\n",
    "    <li>age (that is age_category)</li>\n",
    "    <li>hipertension</li>\n",
    "    <li>sms_received</li>\n",
    "    <li>scholarship</li>\n",
    "    <li>delay_days (that is hour_category</li>\n",
    "    <li>gender</li>\n",
    "</ul>\n",
    "\n",
    "### Limitations\n",
    "\n",
    "> The dataset is massive but has more appointments from some regions. In some of these regions, a great percentage failed to show up. I think it will be better if the dataset is expanded to include more appointments from other regions. Perhaps all appointments in a district or administrative region for a specified period of time should be documented and analyzed in order to be sure of the influence of neighbourhood. An alternative I could have explored is to group some neighbourhoods together but I don't know much about each neighbourhood to warrant this.\n",
    "\n",
    "> Second, some appointments have the age zero. I want to believe this is not a mistake but it could be. If it is a mistake then those columns should have been dropped. If they are dropped, I believe it will have an impact on this analysis. Such impacts may negate some of the findings here.\n",
    "\n",
    "> Third, most of the patients that are in the dataset enjoys scholarship. This makes it difficult to conclude on the real influence of scholarship. The data set may be expanded to include a substantial percentage of those that did not enjoy scholarship in order to make the influence of scholarship clearer.\n",
    "\n",
    "> Lastly, my skills are still rudimentary and perhaps when I become much better I may be able to analyze this dataset much more better.\n",
    "\n",
    "> Please note that most of the variables in this dataset are categorical and as a result will benefit more from a logistic regression analysis in order to draw inferences and make predictions. Unfortunately, I cannot perform such analysis now using the tools available to me. Thanks for staying through the whole analysis process, though long. <strong> The first review was very helpful and enlightening. Thanks so much.</strong> I look forward to the second review."
   ]
  }
 ],
 "metadata": {
  "kernelspec": {
   "display_name": "Python 3",
   "language": "python",
   "name": "python3"
  },
  "language_info": {
   "codemirror_mode": {
    "name": "ipython",
    "version": 3
   },
   "file_extension": ".py",
   "mimetype": "text/x-python",
   "name": "python",
   "nbconvert_exporter": "python",
   "pygments_lexer": "ipython3",
   "version": "3.7.6"
  }
 },
 "nbformat": 4,
 "nbformat_minor": 2
}
